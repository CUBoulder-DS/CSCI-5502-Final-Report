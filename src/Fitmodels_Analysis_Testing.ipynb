{
 "cells": [
  {
   "cell_type": "markdown",
   "id": "5e92e81f-58c3-4d52-87af-8a8a5c9f8b1b",
   "metadata": {},
   "source": [
    "# Model Analysis and Testing"
   ]
  },
  {
   "cell_type": "code",
   "execution_count": 26,
   "id": "1e6e2abc-5790-413d-a2c0-64f9db3c734e",
   "metadata": {
    "execution": {
     "iopub.execute_input": "2023-12-04T22:53:01.294247Z",
     "iopub.status.busy": "2023-12-04T22:53:01.293750Z",
     "iopub.status.idle": "2023-12-04T22:53:01.308153Z",
     "shell.execute_reply": "2023-12-04T22:53:01.307656Z",
     "shell.execute_reply.started": "2023-12-04T22:53:01.294247Z"
    }
   },
   "outputs": [],
   "source": [
    "#!pip install plotly gower dateutil kmodes scikit-learn"
   ]
  },
  {
   "cell_type": "code",
   "execution_count": 90,
   "id": "7f876cd8-d94a-4b2a-ae27-7d9d18e0450d",
   "metadata": {
    "execution": {
     "iopub.execute_input": "2023-12-06T09:39:46.605514Z",
     "iopub.status.busy": "2023-12-06T09:39:46.605017Z",
     "iopub.status.idle": "2023-12-06T09:39:46.621407Z",
     "shell.execute_reply": "2023-12-06T09:39:46.620910Z",
     "shell.execute_reply.started": "2023-12-06T09:39:46.605514Z"
    }
   },
   "outputs": [],
   "source": [
    "import os\n",
    "import ast\n",
    "import tempfile\n",
    "\n",
    "import pandas as pd\n",
    "import numpy as np\n",
    "from dateutil.relativedelta import relativedelta\n",
    "from kmodes.kprototypes import KPrototypes\n",
    "from sklearn.cluster import AgglomerativeClustering\n",
    "from sklearn import metrics\n",
    "from sklearn.model_selection import train_test_split\n",
    "from sklearn.linear_model import LogisticRegression, Perceptron, SGDClassifier\n",
    "from sklearn.svm import LinearSVC\n",
    "from sklearn.tree import DecisionTreeClassifier, plot_tree\n",
    "from sklearn.ensemble import RandomForestClassifier, HistGradientBoostingClassifier, BaggingClassifier\n",
    "from sklearn.metrics import RocCurveDisplay, ConfusionMatrixDisplay, PrecisionRecallDisplay\n",
    "from scipy.cluster.hierarchy import linkage, fcluster\n",
    "import gower\n",
    "\n",
    "import plotly.express as px\n",
    "import plotly.graph_objects as go\n",
    "import plotly.io as pio\n",
    "from plotly.subplots import make_subplots\n",
    "import plotly.figure_factory as ff\n",
    "# Settings for plot rendering, makes work with HTML output + jupyer lab + static output\n",
    "pio.renderers.default = \"notebook+plotly_mimetype+png\"\n",
    "# pio.renderers.default = \"png\"\n",
    "%matplotlib inline"
   ]
  },
  {
   "cell_type": "markdown",
   "id": "e72a090e-e69a-4a78-8bfc-a5c3639814d1",
   "metadata": {},
   "source": [
    "## Load and format data"
   ]
  },
  {
   "cell_type": "code",
   "execution_count": 2,
   "id": "8180e601-4602-41b8-b267-ebdac66039bb",
   "metadata": {
    "execution": {
     "iopub.execute_input": "2023-12-06T08:03:18.680954Z",
     "iopub.status.busy": "2023-12-06T08:03:18.680458Z",
     "iopub.status.idle": "2023-12-06T08:03:44.155629Z",
     "shell.execute_reply": "2023-12-06T08:03:44.155132Z",
     "shell.execute_reply.started": "2023-12-06T08:03:18.680954Z"
    }
   },
   "outputs": [
    {
     "name": "stdout",
     "output_type": "stream",
     "text": [
      "     SubjectId                       Name  ParentId  Level  \\\n",
      "0            3                      Maths       NaN      0   \n",
      "1           32                     Number       3.0      1   \n",
      "2           33                     BIDMAS     144.0      3   \n",
      "3           34     Upper and Lower Bounds     141.0      3   \n",
      "4           35             Calculator Use      32.0      2   \n",
      "..         ...                        ...       ...    ...   \n",
      "383       1982  Mixed operation Fractions      39.0      3   \n",
      "384       1983               Drawing Axes      54.0      3   \n",
      "385       1985             Reading Scales      98.0      3   \n",
      "386       1987             Sorting Shapes     174.0      3   \n",
      "387       1988           Labelling Shapes     174.0      3   \n",
      "\n",
      "                            ParentName  \n",
      "0                                  NaN  \n",
      "1                                Maths  \n",
      "2                     Basic Arithmetic  \n",
      "3              Rounding and Estimating  \n",
      "4                               Number  \n",
      "..                                 ...  \n",
      "383                          Fractions  \n",
      "384               Straight Line Graphs  \n",
      "385               Units of Measurement  \n",
      "386  2D Names and Properties of Shapes  \n",
      "387  2D Names and Properties of Shapes  \n",
      "\n",
      "[388 rows x 5 columns]\n"
     ]
    },
    {
     "data": {
      "text/html": [
       "<div>\n",
       "<style scoped>\n",
       "    .dataframe tbody tr th:only-of-type {\n",
       "        vertical-align: middle;\n",
       "    }\n",
       "\n",
       "    .dataframe tbody tr th {\n",
       "        vertical-align: top;\n",
       "    }\n",
       "\n",
       "    .dataframe thead th {\n",
       "        text-align: right;\n",
       "    }\n",
       "</style>\n",
       "<table border=\"1\" class=\"dataframe\">\n",
       "  <thead>\n",
       "    <tr style=\"text-align: right;\">\n",
       "      <th></th>\n",
       "      <th>QuestionId</th>\n",
       "      <th>UserId</th>\n",
       "      <th>AnswerId</th>\n",
       "      <th>IsCorrect</th>\n",
       "      <th>CorrectAnswer</th>\n",
       "      <th>AnswerValue</th>\n",
       "      <th>DateAnswered</th>\n",
       "      <th>Confidence</th>\n",
       "      <th>GroupId</th>\n",
       "      <th>QuizId</th>\n",
       "      <th>SchemeOfWorkId</th>\n",
       "      <th>Gender</th>\n",
       "      <th>PremiumPupil</th>\n",
       "      <th>SubjectId</th>\n",
       "      <th>Age</th>\n",
       "      <th>Category1</th>\n",
       "    </tr>\n",
       "  </thead>\n",
       "  <tbody>\n",
       "    <tr>\n",
       "      <th>0</th>\n",
       "      <td>898</td>\n",
       "      <td>2111</td>\n",
       "      <td>280203</td>\n",
       "      <td>1</td>\n",
       "      <td>2</td>\n",
       "      <td>2</td>\n",
       "      <td>2019-12-08 17:47:00</td>\n",
       "      <td>NaN</td>\n",
       "      <td>95</td>\n",
       "      <td>86</td>\n",
       "      <td>52562.0</td>\n",
       "      <td>2</td>\n",
       "      <td>False</td>\n",
       "      <td>[3, 49, 62, 70]</td>\n",
       "      <td>12.0</td>\n",
       "      <td>Algebra</td>\n",
       "    </tr>\n",
       "    <tr>\n",
       "      <th>1</th>\n",
       "      <td>767</td>\n",
       "      <td>3062</td>\n",
       "      <td>55638</td>\n",
       "      <td>1</td>\n",
       "      <td>3</td>\n",
       "      <td>3</td>\n",
       "      <td>2019-10-27 20:54:00</td>\n",
       "      <td>25.0</td>\n",
       "      <td>115</td>\n",
       "      <td>39</td>\n",
       "      <td>52562.0</td>\n",
       "      <td>0</td>\n",
       "      <td>False</td>\n",
       "      <td>[3, 32, 144, 204]</td>\n",
       "      <td>NaN</td>\n",
       "      <td>Number</td>\n",
       "    </tr>\n",
       "    <tr>\n",
       "      <th>2</th>\n",
       "      <td>165</td>\n",
       "      <td>1156</td>\n",
       "      <td>386475</td>\n",
       "      <td>1</td>\n",
       "      <td>2</td>\n",
       "      <td>2</td>\n",
       "      <td>2019-10-06 20:16:00</td>\n",
       "      <td>NaN</td>\n",
       "      <td>101</td>\n",
       "      <td>39</td>\n",
       "      <td>52562.0</td>\n",
       "      <td>0</td>\n",
       "      <td>False</td>\n",
       "      <td>[3, 32, 37, 220]</td>\n",
       "      <td>NaN</td>\n",
       "      <td>Number</td>\n",
       "    </tr>\n",
       "    <tr>\n",
       "      <th>3</th>\n",
       "      <td>490</td>\n",
       "      <td>1653</td>\n",
       "      <td>997498</td>\n",
       "      <td>1</td>\n",
       "      <td>4</td>\n",
       "      <td>4</td>\n",
       "      <td>2020-02-27 17:40:00</td>\n",
       "      <td>NaN</td>\n",
       "      <td>46</td>\n",
       "      <td>115</td>\n",
       "      <td>52562.0</td>\n",
       "      <td>0</td>\n",
       "      <td>False</td>\n",
       "      <td>[3, 49, 81, 406]</td>\n",
       "      <td>NaN</td>\n",
       "      <td>Algebra</td>\n",
       "    </tr>\n",
       "    <tr>\n",
       "      <th>4</th>\n",
       "      <td>298</td>\n",
       "      <td>3912</td>\n",
       "      <td>578636</td>\n",
       "      <td>1</td>\n",
       "      <td>3</td>\n",
       "      <td>3</td>\n",
       "      <td>2019-12-27 16:07:00</td>\n",
       "      <td>NaN</td>\n",
       "      <td>314</td>\n",
       "      <td>78</td>\n",
       "      <td>52562.0</td>\n",
       "      <td>2</td>\n",
       "      <td>False</td>\n",
       "      <td>[3, 71, 74, 180]</td>\n",
       "      <td>11.0</td>\n",
       "      <td>Geometry and Measure</td>\n",
       "    </tr>\n",
       "    <tr>\n",
       "      <th>...</th>\n",
       "      <td>...</td>\n",
       "      <td>...</td>\n",
       "      <td>...</td>\n",
       "      <td>...</td>\n",
       "      <td>...</td>\n",
       "      <td>...</td>\n",
       "      <td>...</td>\n",
       "      <td>...</td>\n",
       "      <td>...</td>\n",
       "      <td>...</td>\n",
       "      <td>...</td>\n",
       "      <td>...</td>\n",
       "      <td>...</td>\n",
       "      <td>...</td>\n",
       "      <td>...</td>\n",
       "      <td>...</td>\n",
       "    </tr>\n",
       "    <tr>\n",
       "      <th>1382722</th>\n",
       "      <td>80</td>\n",
       "      <td>2608</td>\n",
       "      <td>57945</td>\n",
       "      <td>1</td>\n",
       "      <td>2</td>\n",
       "      <td>2</td>\n",
       "      <td>2019-11-28 15:22:00</td>\n",
       "      <td>NaN</td>\n",
       "      <td>270</td>\n",
       "      <td>65</td>\n",
       "      <td>52562.0</td>\n",
       "      <td>0</td>\n",
       "      <td>False</td>\n",
       "      <td>[3, 32, 42, 211]</td>\n",
       "      <td>NaN</td>\n",
       "      <td>Number</td>\n",
       "    </tr>\n",
       "    <tr>\n",
       "      <th>1382723</th>\n",
       "      <td>707</td>\n",
       "      <td>2549</td>\n",
       "      <td>584230</td>\n",
       "      <td>0</td>\n",
       "      <td>2</td>\n",
       "      <td>1</td>\n",
       "      <td>2020-01-06 16:26:00</td>\n",
       "      <td>NaN</td>\n",
       "      <td>269</td>\n",
       "      <td>109</td>\n",
       "      <td>52562.0</td>\n",
       "      <td>2</td>\n",
       "      <td>False</td>\n",
       "      <td>[3, 32, 42, 212]</td>\n",
       "      <td>12.0</td>\n",
       "      <td>Number</td>\n",
       "    </tr>\n",
       "    <tr>\n",
       "      <th>1382724</th>\n",
       "      <td>840</td>\n",
       "      <td>5901</td>\n",
       "      <td>1138956</td>\n",
       "      <td>1</td>\n",
       "      <td>1</td>\n",
       "      <td>1</td>\n",
       "      <td>2020-01-07 07:14:00</td>\n",
       "      <td>NaN</td>\n",
       "      <td>270</td>\n",
       "      <td>66</td>\n",
       "      <td>52562.0</td>\n",
       "      <td>0</td>\n",
       "      <td>False</td>\n",
       "      <td>[3, 32, 37, 219]</td>\n",
       "      <td>NaN</td>\n",
       "      <td>Number</td>\n",
       "    </tr>\n",
       "    <tr>\n",
       "      <th>1382725</th>\n",
       "      <td>794</td>\n",
       "      <td>3854</td>\n",
       "      <td>1151183</td>\n",
       "      <td>0</td>\n",
       "      <td>1</td>\n",
       "      <td>3</td>\n",
       "      <td>2019-12-15 16:32:00</td>\n",
       "      <td>NaN</td>\n",
       "      <td>339</td>\n",
       "      <td>9</td>\n",
       "      <td>52562.0</td>\n",
       "      <td>0</td>\n",
       "      <td>False</td>\n",
       "      <td>[3, 49, 62, 70]</td>\n",
       "      <td>NaN</td>\n",
       "      <td>Algebra</td>\n",
       "    </tr>\n",
       "    <tr>\n",
       "      <th>1382726</th>\n",
       "      <td>157</td>\n",
       "      <td>3184</td>\n",
       "      <td>1321883</td>\n",
       "      <td>1</td>\n",
       "      <td>3</td>\n",
       "      <td>3</td>\n",
       "      <td>2020-01-07 10:02:00</td>\n",
       "      <td>NaN</td>\n",
       "      <td>27</td>\n",
       "      <td>66</td>\n",
       "      <td>52562.0</td>\n",
       "      <td>2</td>\n",
       "      <td>False</td>\n",
       "      <td>[3, 32, 37, 219]</td>\n",
       "      <td>11.0</td>\n",
       "      <td>Number</td>\n",
       "    </tr>\n",
       "  </tbody>\n",
       "</table>\n",
       "<p>1382727 rows × 16 columns</p>\n",
       "</div>"
      ],
      "text/plain": [
       "         QuestionId  UserId  AnswerId  IsCorrect  CorrectAnswer  AnswerValue  \\\n",
       "0               898    2111    280203          1              2            2   \n",
       "1               767    3062     55638          1              3            3   \n",
       "2               165    1156    386475          1              2            2   \n",
       "3               490    1653    997498          1              4            4   \n",
       "4               298    3912    578636          1              3            3   \n",
       "...             ...     ...       ...        ...            ...          ...   \n",
       "1382722          80    2608     57945          1              2            2   \n",
       "1382723         707    2549    584230          0              2            1   \n",
       "1382724         840    5901   1138956          1              1            1   \n",
       "1382725         794    3854   1151183          0              1            3   \n",
       "1382726         157    3184   1321883          1              3            3   \n",
       "\n",
       "               DateAnswered  Confidence  GroupId  QuizId  SchemeOfWorkId  \\\n",
       "0       2019-12-08 17:47:00         NaN       95      86         52562.0   \n",
       "1       2019-10-27 20:54:00        25.0      115      39         52562.0   \n",
       "2       2019-10-06 20:16:00         NaN      101      39         52562.0   \n",
       "3       2020-02-27 17:40:00         NaN       46     115         52562.0   \n",
       "4       2019-12-27 16:07:00         NaN      314      78         52562.0   \n",
       "...                     ...         ...      ...     ...             ...   \n",
       "1382722 2019-11-28 15:22:00         NaN      270      65         52562.0   \n",
       "1382723 2020-01-06 16:26:00         NaN      269     109         52562.0   \n",
       "1382724 2020-01-07 07:14:00         NaN      270      66         52562.0   \n",
       "1382725 2019-12-15 16:32:00         NaN      339       9         52562.0   \n",
       "1382726 2020-01-07 10:02:00         NaN       27      66         52562.0   \n",
       "\n",
       "         Gender  PremiumPupil          SubjectId   Age             Category1  \n",
       "0             2         False    [3, 49, 62, 70]  12.0               Algebra  \n",
       "1             0         False  [3, 32, 144, 204]   NaN                Number  \n",
       "2             0         False   [3, 32, 37, 220]   NaN                Number  \n",
       "3             0         False   [3, 49, 81, 406]   NaN               Algebra  \n",
       "4             2         False   [3, 71, 74, 180]  11.0  Geometry and Measure  \n",
       "...         ...           ...                ...   ...                   ...  \n",
       "1382722       0         False   [3, 32, 42, 211]   NaN                Number  \n",
       "1382723       2         False   [3, 32, 42, 212]  12.0                Number  \n",
       "1382724       0         False   [3, 32, 37, 219]   NaN                Number  \n",
       "1382725       0         False    [3, 49, 62, 70]   NaN               Algebra  \n",
       "1382726       2         False   [3, 32, 37, 219]  11.0                Number  \n",
       "\n",
       "[1382727 rows x 16 columns]"
      ]
     },
     "execution_count": 2,
     "metadata": {},
     "output_type": "execute_result"
    }
   ],
   "source": [
    "# Use normpath to make work on windows machines\n",
    "data_dir = os.path.normpath(\"../data/\")\n",
    "eedi_dir = os.path.join(data_dir, \"Eedi_dataset\")\n",
    "eedi_metadata_dir = os.path.join(eedi_dir, \"metadata\")\n",
    "\n",
    "df_train = pd.read_csv(os.path.join(eedi_dir, \"train_data\", \"train_task_3_4.csv\"))\n",
    "df_answer = pd.read_csv(os.path.join(eedi_metadata_dir, \"answer_metadata_task_3_4.csv\"), parse_dates=[\"DateAnswered\"])\n",
    "df_student = pd.read_csv(os.path.join(eedi_metadata_dir, \"student_metadata_task_3_4.csv\"), parse_dates=[\"DateOfBirth\"])\n",
    "df_question = pd.read_csv(os.path.join(eedi_metadata_dir, \"question_metadata_task_3_4.csv\"))\n",
    "df_subject = pd.read_csv(os.path.join(eedi_metadata_dir, \"subject_metadata.csv\"))\n",
    "\n",
    "# Join the datasets on the relevant keys, so that we only have to work with two DFs: df_total and df_subject\n",
    "df_total = df_train.join(df_answer.set_index('AnswerId'), on=\"AnswerId\")\\\n",
    "                    .join(df_student.set_index(\"UserId\"), on=\"UserId\")\\\n",
    "                    .join(df_question.set_index(\"QuestionId\"), on=\"QuestionId\")\n",
    "\n",
    "# Convert str col to proper dtype, list of ints\n",
    "df_total.SubjectId = df_total.SubjectId.apply(ast.literal_eval)\n",
    "# Convert PremiumPupil to proper dtype of bool\n",
    "df_total.PremiumPupil = df_total.PremiumPupil.fillna(0).astype(bool)\n",
    "# Make age column and drop DateOfBirth\n",
    "df_total[\"Age\"] = df_total.apply(lambda x: relativedelta(x.DateAnswered, x.DateOfBirth).years if not pd.isnull(x.DateOfBirth) else np.NaN, axis=1) \n",
    "df_total = df_total.drop(columns=[\"DateOfBirth\"])\n",
    "\n",
    "subject_mapping = pd.Series(df_subject.Name.values,index=df_subject.SubjectId).to_dict()\n",
    "# Make 1st level category ID\n",
    "df_total[\"Category1\"] = df_total.SubjectId.apply(lambda x: subject_mapping[x[1]])\n",
    "# Make column with strs of the parentId\n",
    "df_subject[\"ParentName\"] = df_subject.ParentId.map(subject_mapping)\n",
    "\n",
    "\n",
    "print(df_subject)\n",
    "df_total"
   ]
  },
  {
   "cell_type": "markdown",
   "id": "38ea9a31-ac60-4ba7-876e-74bbfa45c4b7",
   "metadata": {},
   "source": [
    "## Clustering\n",
    "\n",
    "Want to cluster over numerical AND categorical variables. \n",
    "\n",
    "* Use kmodes/kprototype [link](https://pypi.org/project/kmodes/)\n",
    "* Use gower distance: [with hier clustering](http://webcache.googleusercontent.com/search?q=cache:https://towardsdatascience.com/clustering-on-numerical-and-categorical-features-6e0ebcf1cbad&strip=0&vwsrc=1&referer=medium-parser)\n",
    "    * [another link w Rand index](https://www.kaggle.com/code/halflingwizard/clustering-categorical-data-using-gower-distance/notebook)"
   ]
  },
  {
   "cell_type": "code",
   "execution_count": 29,
   "id": "4f1d1fea-ec56-4879-a62d-bc7ce508dc4f",
   "metadata": {
    "execution": {
     "iopub.execute_input": "2023-12-04T22:53:29.171786Z",
     "iopub.status.busy": "2023-12-04T22:53:29.171289Z",
     "iopub.status.idle": "2023-12-04T22:53:29.185196Z",
     "shell.execute_reply": "2023-12-04T22:53:29.184699Z",
     "shell.execute_reply.started": "2023-12-04T22:53:29.171786Z"
    },
    "scrolled": true
   },
   "outputs": [],
   "source": [
    "# cat_cols = [\"QuestionId\", \"UserId\", \"IsCorrect\", \"DateAnswered\", \"Confidence\", \"GroupId\", \"QuizId\", \"Gender\", \"PremiumPupil\", \"Age\"]\n",
    "# df_cluster = df_total[]"
   ]
  },
  {
   "cell_type": "markdown",
   "id": "89ee484a-8db0-45d6-a3e2-d81ff7f29ee0",
   "metadata": {},
   "source": [
    "### Clustering using the KPrototypes Algorithm"
   ]
  },
  {
   "cell_type": "code",
   "execution_count": 30,
   "id": "477ba2c1-6f90-4deb-9ddb-414d9bf30629",
   "metadata": {
    "execution": {
     "iopub.execute_input": "2023-12-04T22:53:29.185692Z",
     "iopub.status.busy": "2023-12-04T22:53:29.185692Z",
     "iopub.status.idle": "2023-12-04T22:59:05.526876Z",
     "shell.execute_reply": "2023-12-04T22:59:05.526379Z",
     "shell.execute_reply.started": "2023-12-04T22:53:29.185692Z"
    },
    "scrolled": true
   },
   "outputs": [
    {
     "data": {
      "text/html": [
       "<style>#sk-container-id-2 {color: black;}#sk-container-id-2 pre{padding: 0;}#sk-container-id-2 div.sk-toggleable {background-color: white;}#sk-container-id-2 label.sk-toggleable__label {cursor: pointer;display: block;width: 100%;margin-bottom: 0;padding: 0.3em;box-sizing: border-box;text-align: center;}#sk-container-id-2 label.sk-toggleable__label-arrow:before {content: \"▸\";float: left;margin-right: 0.25em;color: #696969;}#sk-container-id-2 label.sk-toggleable__label-arrow:hover:before {color: black;}#sk-container-id-2 div.sk-estimator:hover label.sk-toggleable__label-arrow:before {color: black;}#sk-container-id-2 div.sk-toggleable__content {max-height: 0;max-width: 0;overflow: hidden;text-align: left;background-color: #f0f8ff;}#sk-container-id-2 div.sk-toggleable__content pre {margin: 0.2em;color: black;border-radius: 0.25em;background-color: #f0f8ff;}#sk-container-id-2 input.sk-toggleable__control:checked~div.sk-toggleable__content {max-height: 200px;max-width: 100%;overflow: auto;}#sk-container-id-2 input.sk-toggleable__control:checked~label.sk-toggleable__label-arrow:before {content: \"▾\";}#sk-container-id-2 div.sk-estimator input.sk-toggleable__control:checked~label.sk-toggleable__label {background-color: #d4ebff;}#sk-container-id-2 div.sk-label input.sk-toggleable__control:checked~label.sk-toggleable__label {background-color: #d4ebff;}#sk-container-id-2 input.sk-hidden--visually {border: 0;clip: rect(1px 1px 1px 1px);clip: rect(1px, 1px, 1px, 1px);height: 1px;margin: -1px;overflow: hidden;padding: 0;position: absolute;width: 1px;}#sk-container-id-2 div.sk-estimator {font-family: monospace;background-color: #f0f8ff;border: 1px dotted black;border-radius: 0.25em;box-sizing: border-box;margin-bottom: 0.5em;}#sk-container-id-2 div.sk-estimator:hover {background-color: #d4ebff;}#sk-container-id-2 div.sk-parallel-item::after {content: \"\";width: 100%;border-bottom: 1px solid gray;flex-grow: 1;}#sk-container-id-2 div.sk-label:hover label.sk-toggleable__label {background-color: #d4ebff;}#sk-container-id-2 div.sk-serial::before {content: \"\";position: absolute;border-left: 1px solid gray;box-sizing: border-box;top: 0;bottom: 0;left: 50%;z-index: 0;}#sk-container-id-2 div.sk-serial {display: flex;flex-direction: column;align-items: center;background-color: white;padding-right: 0.2em;padding-left: 0.2em;position: relative;}#sk-container-id-2 div.sk-item {position: relative;z-index: 1;}#sk-container-id-2 div.sk-parallel {display: flex;align-items: stretch;justify-content: center;background-color: white;position: relative;}#sk-container-id-2 div.sk-item::before, #sk-container-id-2 div.sk-parallel-item::before {content: \"\";position: absolute;border-left: 1px solid gray;box-sizing: border-box;top: 0;bottom: 0;left: 50%;z-index: -1;}#sk-container-id-2 div.sk-parallel-item {display: flex;flex-direction: column;z-index: 1;position: relative;background-color: white;}#sk-container-id-2 div.sk-parallel-item:first-child::after {align-self: flex-end;width: 50%;}#sk-container-id-2 div.sk-parallel-item:last-child::after {align-self: flex-start;width: 50%;}#sk-container-id-2 div.sk-parallel-item:only-child::after {width: 0;}#sk-container-id-2 div.sk-dashed-wrapped {border: 1px dashed gray;margin: 0 0.4em 0.5em 0.4em;box-sizing: border-box;padding-bottom: 0.4em;background-color: white;}#sk-container-id-2 div.sk-label label {font-family: monospace;font-weight: bold;display: inline-block;line-height: 1.2em;}#sk-container-id-2 div.sk-label-container {text-align: center;}#sk-container-id-2 div.sk-container {/* jupyter's `normalize.less` sets `[hidden] { display: none; }` but bootstrap.min.css set `[hidden] { display: none !important; }` so we also need the `!important` here to be able to override the default hidden behavior on the sphinx rendered scikit-learn.org. See: https://github.com/scikit-learn/scikit-learn/issues/21755 */display: inline-block !important;position: relative;}#sk-container-id-2 div.sk-text-repr-fallback {display: none;}</style><div id=\"sk-container-id-2\" class=\"sk-top-container\"><div class=\"sk-text-repr-fallback\"><pre>KPrototypes(gamma=1146.7452122828936, n_clusters=3)</pre><b>In a Jupyter environment, please rerun this cell to show the HTML representation or trust the notebook. <br />On GitHub, the HTML representation is unable to render, please try loading this page with nbviewer.org.</b></div><div class=\"sk-container\" hidden><div class=\"sk-item\"><div class=\"sk-estimator sk-toggleable\"><input class=\"sk-toggleable__control sk-hidden--visually\" id=\"sk-estimator-id-2\" type=\"checkbox\" checked><label for=\"sk-estimator-id-2\" class=\"sk-toggleable__label sk-toggleable__label-arrow\">KPrototypes</label><div class=\"sk-toggleable__content\"><pre>KPrototypes(gamma=1146.7452122828936, n_clusters=3)</pre></div></div></div></div></div>"
      ],
      "text/plain": [
       "KPrototypes(gamma=1146.7452122828936, n_clusters=3)"
      ]
     },
     "execution_count": 30,
     "metadata": {},
     "output_type": "execute_result"
    }
   ],
   "source": [
    "cat_cols = [\"QuestionId\", \"UserId\", \"GroupId\", \"QuizId\", \"Gender\", \"IsCorrect\", \"PremiumPupil\", \"Age\"]\n",
    "cluster_cols = cat_cols + [\"DateAnswered\", \"Confidence\"]\n",
    "\n",
    "df_cluster = df_total[cluster_cols].sample(frac=0.1, random_state=42).fillna(0)\n",
    "df_cluster.DateAnswered = df_cluster.DateAnswered.dt.strftime(\"%Y%m%d\").astype(int)\n",
    "\n",
    "kprot = KPrototypes(n_clusters=3)\n",
    "df_cluster[\"Clusters\"]  = kprot.fit_predict(df_cluster, categorical=list(range(len(cat_cols))))\n",
    "kprot"
   ]
  },
  {
   "cell_type": "code",
   "execution_count": 31,
   "id": "c8872754-1379-44b0-8274-693f50aed1ad",
   "metadata": {
    "execution": {
     "iopub.execute_input": "2023-12-04T22:59:05.527869Z",
     "iopub.status.busy": "2023-12-04T22:59:05.527373Z",
     "iopub.status.idle": "2023-12-04T22:59:05.543265Z",
     "shell.execute_reply": "2023-12-04T22:59:05.541777Z",
     "shell.execute_reply.started": "2023-12-04T22:59:05.527869Z"
    }
   },
   "outputs": [
    {
     "data": {
      "text/html": [
       "<div>\n",
       "<style scoped>\n",
       "    .dataframe tbody tr th:only-of-type {\n",
       "        vertical-align: middle;\n",
       "    }\n",
       "\n",
       "    .dataframe tbody tr th {\n",
       "        vertical-align: top;\n",
       "    }\n",
       "\n",
       "    .dataframe thead th {\n",
       "        text-align: right;\n",
       "    }\n",
       "</style>\n",
       "<table border=\"1\" class=\"dataframe\">\n",
       "  <thead>\n",
       "    <tr style=\"text-align: right;\">\n",
       "      <th></th>\n",
       "      <th>QuestionId</th>\n",
       "      <th>UserId</th>\n",
       "      <th>GroupId</th>\n",
       "      <th>QuizId</th>\n",
       "      <th>Gender</th>\n",
       "      <th>IsCorrect</th>\n",
       "      <th>PremiumPupil</th>\n",
       "      <th>Age</th>\n",
       "      <th>DateAnswered</th>\n",
       "      <th>Confidence</th>\n",
       "      <th>Clusters</th>\n",
       "    </tr>\n",
       "  </thead>\n",
       "  <tbody>\n",
       "    <tr>\n",
       "      <th>379087</th>\n",
       "      <td>207</td>\n",
       "      <td>6032</td>\n",
       "      <td>104</td>\n",
       "      <td>78</td>\n",
       "      <td>1</td>\n",
       "      <td>1</td>\n",
       "      <td>False</td>\n",
       "      <td>11.0</td>\n",
       "      <td>20200102</td>\n",
       "      <td>0.0</td>\n",
       "      <td>0</td>\n",
       "    </tr>\n",
       "    <tr>\n",
       "      <th>1026777</th>\n",
       "      <td>130</td>\n",
       "      <td>2956</td>\n",
       "      <td>153</td>\n",
       "      <td>55</td>\n",
       "      <td>2</td>\n",
       "      <td>1</td>\n",
       "      <td>False</td>\n",
       "      <td>0.0</td>\n",
       "      <td>20200304</td>\n",
       "      <td>0.0</td>\n",
       "      <td>1</td>\n",
       "    </tr>\n",
       "    <tr>\n",
       "      <th>1347837</th>\n",
       "      <td>20</td>\n",
       "      <td>4471</td>\n",
       "      <td>275</td>\n",
       "      <td>105</td>\n",
       "      <td>0</td>\n",
       "      <td>1</td>\n",
       "      <td>False</td>\n",
       "      <td>0.0</td>\n",
       "      <td>20200210</td>\n",
       "      <td>0.0</td>\n",
       "      <td>0</td>\n",
       "    </tr>\n",
       "    <tr>\n",
       "      <th>630173</th>\n",
       "      <td>868</td>\n",
       "      <td>4602</td>\n",
       "      <td>118</td>\n",
       "      <td>9</td>\n",
       "      <td>0</td>\n",
       "      <td>0</td>\n",
       "      <td>False</td>\n",
       "      <td>0.0</td>\n",
       "      <td>20200116</td>\n",
       "      <td>0.0</td>\n",
       "      <td>0</td>\n",
       "    </tr>\n",
       "    <tr>\n",
       "      <th>363588</th>\n",
       "      <td>238</td>\n",
       "      <td>98</td>\n",
       "      <td>123</td>\n",
       "      <td>62</td>\n",
       "      <td>0</td>\n",
       "      <td>1</td>\n",
       "      <td>False</td>\n",
       "      <td>0.0</td>\n",
       "      <td>20200428</td>\n",
       "      <td>0.0</td>\n",
       "      <td>1</td>\n",
       "    </tr>\n",
       "    <tr>\n",
       "      <th>...</th>\n",
       "      <td>...</td>\n",
       "      <td>...</td>\n",
       "      <td>...</td>\n",
       "      <td>...</td>\n",
       "      <td>...</td>\n",
       "      <td>...</td>\n",
       "      <td>...</td>\n",
       "      <td>...</td>\n",
       "      <td>...</td>\n",
       "      <td>...</td>\n",
       "      <td>...</td>\n",
       "    </tr>\n",
       "    <tr>\n",
       "      <th>882524</th>\n",
       "      <td>735</td>\n",
       "      <td>1703</td>\n",
       "      <td>332</td>\n",
       "      <td>39</td>\n",
       "      <td>0</td>\n",
       "      <td>1</td>\n",
       "      <td>False</td>\n",
       "      <td>0.0</td>\n",
       "      <td>20191012</td>\n",
       "      <td>0.0</td>\n",
       "      <td>2</td>\n",
       "    </tr>\n",
       "    <tr>\n",
       "      <th>1020633</th>\n",
       "      <td>445</td>\n",
       "      <td>3391</td>\n",
       "      <td>166</td>\n",
       "      <td>9</td>\n",
       "      <td>2</td>\n",
       "      <td>0</td>\n",
       "      <td>False</td>\n",
       "      <td>12.0</td>\n",
       "      <td>20200104</td>\n",
       "      <td>100.0</td>\n",
       "      <td>0</td>\n",
       "    </tr>\n",
       "    <tr>\n",
       "      <th>1366835</th>\n",
       "      <td>281</td>\n",
       "      <td>2851</td>\n",
       "      <td>14</td>\n",
       "      <td>25</td>\n",
       "      <td>1</td>\n",
       "      <td>1</td>\n",
       "      <td>False</td>\n",
       "      <td>11.0</td>\n",
       "      <td>20191217</td>\n",
       "      <td>0.0</td>\n",
       "      <td>2</td>\n",
       "    </tr>\n",
       "    <tr>\n",
       "      <th>467562</th>\n",
       "      <td>625</td>\n",
       "      <td>5850</td>\n",
       "      <td>260</td>\n",
       "      <td>111</td>\n",
       "      <td>1</td>\n",
       "      <td>1</td>\n",
       "      <td>False</td>\n",
       "      <td>11.0</td>\n",
       "      <td>20200115</td>\n",
       "      <td>0.0</td>\n",
       "      <td>0</td>\n",
       "    </tr>\n",
       "    <tr>\n",
       "      <th>1143309</th>\n",
       "      <td>923</td>\n",
       "      <td>5743</td>\n",
       "      <td>350</td>\n",
       "      <td>9</td>\n",
       "      <td>1</td>\n",
       "      <td>1</td>\n",
       "      <td>False</td>\n",
       "      <td>11.0</td>\n",
       "      <td>20200105</td>\n",
       "      <td>0.0</td>\n",
       "      <td>0</td>\n",
       "    </tr>\n",
       "  </tbody>\n",
       "</table>\n",
       "<p>138273 rows × 11 columns</p>\n",
       "</div>"
      ],
      "text/plain": [
       "         QuestionId  UserId  GroupId  QuizId  Gender  IsCorrect  PremiumPupil  \\\n",
       "379087          207    6032      104      78       1          1         False   \n",
       "1026777         130    2956      153      55       2          1         False   \n",
       "1347837          20    4471      275     105       0          1         False   \n",
       "630173          868    4602      118       9       0          0         False   \n",
       "363588          238      98      123      62       0          1         False   \n",
       "...             ...     ...      ...     ...     ...        ...           ...   \n",
       "882524          735    1703      332      39       0          1         False   \n",
       "1020633         445    3391      166       9       2          0         False   \n",
       "1366835         281    2851       14      25       1          1         False   \n",
       "467562          625    5850      260     111       1          1         False   \n",
       "1143309         923    5743      350       9       1          1         False   \n",
       "\n",
       "          Age  DateAnswered  Confidence  Clusters  \n",
       "379087   11.0      20200102         0.0         0  \n",
       "1026777   0.0      20200304         0.0         1  \n",
       "1347837   0.0      20200210         0.0         0  \n",
       "630173    0.0      20200116         0.0         0  \n",
       "363588    0.0      20200428         0.0         1  \n",
       "...       ...           ...         ...       ...  \n",
       "882524    0.0      20191012         0.0         2  \n",
       "1020633  12.0      20200104       100.0         0  \n",
       "1366835  11.0      20191217         0.0         2  \n",
       "467562   11.0      20200115         0.0         0  \n",
       "1143309  11.0      20200105         0.0         0  \n",
       "\n",
       "[138273 rows x 11 columns]"
      ]
     },
     "execution_count": 31,
     "metadata": {},
     "output_type": "execute_result"
    }
   ],
   "source": [
    "df_cluster"
   ]
  },
  {
   "cell_type": "code",
   "execution_count": 32,
   "id": "c7fa6e65-75ab-4339-8589-f02a61db5673",
   "metadata": {
    "execution": {
     "iopub.execute_input": "2023-12-04T22:59:05.546742Z",
     "iopub.status.busy": "2023-12-04T22:59:05.544259Z",
     "iopub.status.idle": "2023-12-04T22:59:05.588339Z",
     "shell.execute_reply": "2023-12-04T22:59:05.587843Z",
     "shell.execute_reply.started": "2023-12-04T22:59:05.546742Z"
    }
   },
   "outputs": [
    {
     "data": {
      "text/plain": [
       "Clusters_K\n",
       "2.0    73301\n",
       "0.0    41230\n",
       "1.0    23742\n",
       "Name: count, dtype: int64"
      ]
     },
     "execution_count": 32,
     "metadata": {},
     "output_type": "execute_result"
    }
   ],
   "source": [
    "df_total[\"Clusters_K\"] = np.NaN\n",
    "df_total.loc[df_cluster.index, \"Clusters_K\"] = df_cluster[\"Clusters\"]\n",
    "\n",
    "# df_total.loc[df_cluster.index, \"Clusters_K\"]\n",
    "df_total.Clusters_K.value_counts()"
   ]
  },
  {
   "cell_type": "markdown",
   "id": "8160b4dd-0ae2-4901-b53b-3df8e1174467",
   "metadata": {},
   "source": [
    "### Clustering using the Gower distance matrix\n",
    "\n",
    "Gower Similarity is computed as the average of partial similarities (ps) across the m features of the observation, and can be used to calculate non-euclidian (aka more correct) distances between categorical features. "
   ]
  },
  {
   "cell_type": "code",
   "execution_count": 34,
   "id": "8ec3283c-87c2-4cc1-b3d1-60dca191d6f1",
   "metadata": {
    "execution": {
     "iopub.execute_input": "2023-12-04T22:59:06.021092Z",
     "iopub.status.busy": "2023-12-04T22:59:06.020595Z",
     "iopub.status.idle": "2023-12-05T00:33:03.124047Z",
     "shell.execute_reply": "2023-12-05T00:33:03.085219Z",
     "shell.execute_reply.started": "2023-12-04T22:59:06.021092Z"
    },
    "scrolled": true
   },
   "outputs": [
    {
     "data": {
      "text/plain": [
       "array([[0.        , 0.6021055 , 0.6011257 , ..., 0.4926117 , 0.40013552,\n",
       "        0.40003127],\n",
       "       [0.6021055 , 0.        , 0.5009798 , ..., 0.6947172 , 0.60197   ,\n",
       "        0.60207427],\n",
       "       [0.6011257 , 0.5009798 , 0.        , ..., 0.69373745, 0.60099024,\n",
       "        0.6010945 ],\n",
       "       ...,\n",
       "       [0.4926117 , 0.6947172 , 0.69373745, ..., 0.        , 0.49274722,\n",
       "        0.49264297],\n",
       "       [0.40013552, 0.60197   , 0.60099024, ..., 0.49274722, 0.        ,\n",
       "        0.40010422],\n",
       "       [0.40003127, 0.60207427, 0.6010945 , ..., 0.49264297, 0.40010422,\n",
       "        0.        ]], dtype=float32)"
      ]
     },
     "execution_count": 34,
     "metadata": {},
     "output_type": "execute_result"
    }
   ],
   "source": [
    "# cat_cols = [\"QuestionId\", \"UserId\", \"GroupId\", \"QuizId\", \"Gender\", \"IsCorrect\", \"PremiumPupil\", \"Age\"]\n",
    "# cluster_cols = cat_cols + [\"DateAnswered\", \"Confidence\"]\n",
    "\n",
    "# df_cluster = df_total[cluster_cols].sample(frac=0.1, random_state=42).fillna(0)\n",
    "# df_cluster.DateAnswered = df_cluster.DateAnswered.dt.strftime(\"%Y%m%d\").astype(int)\n",
    "\n",
    "gower_dists = gower.gower_matrix(df_cluster, cat_features = [True] * len(cat_cols) + [False] * (len(cluster_cols) - len(cat_cols)))\n",
    "\n",
    "gower_dists"
   ]
  },
  {
   "cell_type": "markdown",
   "id": "73014d1c-3ac7-4b8d-9f93-4f7c554866a8",
   "metadata": {},
   "source": [
    "#### Gower with scipy fcluster"
   ]
  },
  {
   "cell_type": "code",
   "execution_count": 35,
   "id": "85b915ed-0561-4858-b524-2ca022cad777",
   "metadata": {
    "execution": {
     "iopub.execute_input": "2023-12-05T00:33:03.294420Z",
     "iopub.status.busy": "2023-12-05T00:33:03.278522Z",
     "iopub.status.idle": "2023-12-05T00:33:05.624187Z",
     "shell.execute_reply": "2023-12-05T00:33:05.613395Z",
     "shell.execute_reply.started": "2023-12-05T00:33:03.294420Z"
    },
    "scrolled": true
   },
   "outputs": [
    {
     "ename": "MemoryError",
     "evalue": "Unable to allocate 142. GiB for an array with shape (138273, 138273) and data type float64",
     "output_type": "error",
     "traceback": [
      "\u001b[1;31m---------------------------------------------------------------------------\u001b[0m",
      "\u001b[1;31mMemoryError\u001b[0m                               Traceback (most recent call last)",
      "Cell \u001b[1;32mIn[35], line 1\u001b[0m\n\u001b[1;32m----> 1\u001b[0m cluster_linkages \u001b[38;5;241m=\u001b[39m \u001b[43mlinkage\u001b[49m\u001b[43m(\u001b[49m\u001b[43mgower_dists\u001b[49m\u001b[43m)\u001b[49m \n\u001b[0;32m      2\u001b[0m clusters \u001b[38;5;241m=\u001b[39m fcluster(cluster_linkages, t\u001b[38;5;241m=\u001b[39m\u001b[38;5;241m3\u001b[39m, criterion\u001b[38;5;241m=\u001b[39m\u001b[38;5;124m'\u001b[39m\u001b[38;5;124mmaxclust\u001b[39m\u001b[38;5;124m'\u001b[39m)\n\u001b[0;32m      4\u001b[0m cluster\n",
      "File \u001b[1;32m~\\.pyenv\\pyenv-win\\versions\\3.10.11\\lib\\site-packages\\scipy\\cluster\\hierarchy.py:1045\u001b[0m, in \u001b[0;36mlinkage\u001b[1;34m(y, method, metric, optimal_ordering)\u001b[0m\n\u001b[0;32m   1042\u001b[0m \u001b[38;5;28;01mif\u001b[39;00m method \u001b[38;5;129;01mnot\u001b[39;00m \u001b[38;5;129;01min\u001b[39;00m _LINKAGE_METHODS:\n\u001b[0;32m   1043\u001b[0m     \u001b[38;5;28;01mraise\u001b[39;00m \u001b[38;5;167;01mValueError\u001b[39;00m(\u001b[38;5;124mf\u001b[39m\u001b[38;5;124m\"\u001b[39m\u001b[38;5;124mInvalid method: \u001b[39m\u001b[38;5;132;01m{\u001b[39;00mmethod\u001b[38;5;132;01m}\u001b[39;00m\u001b[38;5;124m\"\u001b[39m)\n\u001b[1;32m-> 1045\u001b[0m y \u001b[38;5;241m=\u001b[39m \u001b[43m_convert_to_double\u001b[49m\u001b[43m(\u001b[49m\u001b[43mnp\u001b[49m\u001b[38;5;241;43m.\u001b[39;49m\u001b[43masarray\u001b[49m\u001b[43m(\u001b[49m\u001b[43my\u001b[49m\u001b[43m,\u001b[49m\u001b[43m \u001b[49m\u001b[43morder\u001b[49m\u001b[38;5;241;43m=\u001b[39;49m\u001b[38;5;124;43m'\u001b[39;49m\u001b[38;5;124;43mc\u001b[39;49m\u001b[38;5;124;43m'\u001b[39;49m\u001b[43m)\u001b[49m\u001b[43m)\u001b[49m\n\u001b[0;32m   1047\u001b[0m \u001b[38;5;28;01mif\u001b[39;00m y\u001b[38;5;241m.\u001b[39mndim \u001b[38;5;241m==\u001b[39m \u001b[38;5;241m1\u001b[39m:\n\u001b[0;32m   1048\u001b[0m     distance\u001b[38;5;241m.\u001b[39mis_valid_y(y, throw\u001b[38;5;241m=\u001b[39m\u001b[38;5;28;01mTrue\u001b[39;00m, name\u001b[38;5;241m=\u001b[39m\u001b[38;5;124m'\u001b[39m\u001b[38;5;124my\u001b[39m\u001b[38;5;124m'\u001b[39m)\n",
      "File \u001b[1;32m~\\.pyenv\\pyenv-win\\versions\\3.10.11\\lib\\site-packages\\scipy\\cluster\\hierarchy.py:1573\u001b[0m, in \u001b[0;36m_convert_to_double\u001b[1;34m(X)\u001b[0m\n\u001b[0;32m   1571\u001b[0m \u001b[38;5;28;01mdef\u001b[39;00m \u001b[38;5;21m_convert_to_double\u001b[39m(X):\n\u001b[0;32m   1572\u001b[0m     \u001b[38;5;28;01mif\u001b[39;00m X\u001b[38;5;241m.\u001b[39mdtype \u001b[38;5;241m!=\u001b[39m np\u001b[38;5;241m.\u001b[39mdouble:\n\u001b[1;32m-> 1573\u001b[0m         X \u001b[38;5;241m=\u001b[39m \u001b[43mX\u001b[49m\u001b[38;5;241;43m.\u001b[39;49m\u001b[43mastype\u001b[49m\u001b[43m(\u001b[49m\u001b[43mnp\u001b[49m\u001b[38;5;241;43m.\u001b[39;49m\u001b[43mdouble\u001b[49m\u001b[43m)\u001b[49m\n\u001b[0;32m   1574\u001b[0m     \u001b[38;5;28;01mif\u001b[39;00m \u001b[38;5;129;01mnot\u001b[39;00m X\u001b[38;5;241m.\u001b[39mflags\u001b[38;5;241m.\u001b[39mcontiguous:\n\u001b[0;32m   1575\u001b[0m         X \u001b[38;5;241m=\u001b[39m X\u001b[38;5;241m.\u001b[39mcopy()\n",
      "\u001b[1;31mMemoryError\u001b[0m: Unable to allocate 142. GiB for an array with shape (138273, 138273) and data type float64"
     ]
    }
   ],
   "source": [
    "cluster_linkages = linkage(gower_dists) \n",
    "clusters = fcluster(cluster_linkages, t=3, criterion='maxclust')\n",
    "\n",
    "clusters"
   ]
  },
  {
   "cell_type": "markdown",
   "id": "92910245-a786-4479-bb31-e9d77bc434a9",
   "metadata": {},
   "source": [
    "#### Gower with sklearn AgglomerativeClustering"
   ]
  },
  {
   "cell_type": "code",
   "execution_count": 38,
   "id": "25f2d733-2da2-44a5-a0b6-e8a00df7d18d",
   "metadata": {
    "execution": {
     "iopub.execute_input": "2023-12-05T15:46:57.395556Z",
     "iopub.status.busy": "2023-12-05T15:46:57.395556Z",
     "iopub.status.idle": "2023-12-05T16:15:51.816003Z",
     "shell.execute_reply": "2023-12-05T16:15:51.807560Z",
     "shell.execute_reply.started": "2023-12-05T15:46:57.395556Z"
    },
    "scrolled": true
   },
   "outputs": [
    {
     "ename": "MemoryError",
     "evalue": "Unable to allocate 17.8 GiB for an array with shape (138273, 138273) and data type bool",
     "output_type": "error",
     "traceback": [
      "\u001b[1;31m---------------------------------------------------------------------------\u001b[0m",
      "\u001b[1;31mMemoryError\u001b[0m                               Traceback (most recent call last)",
      "Cell \u001b[1;32mIn[38], line 3\u001b[0m\n\u001b[0;32m      1\u001b[0m \u001b[38;5;28;01mwith\u001b[39;00m tempfile\u001b[38;5;241m.\u001b[39mTemporaryDirectory() \u001b[38;5;28;01mas\u001b[39;00m \u001b[38;5;28mdir\u001b[39m:\n\u001b[0;32m      2\u001b[0m     model_single \u001b[38;5;241m=\u001b[39m AgglomerativeClustering(n_clusters\u001b[38;5;241m=\u001b[39m\u001b[38;5;241m3\u001b[39m, linkage\u001b[38;5;241m=\u001b[39m\u001b[38;5;124m'\u001b[39m\u001b[38;5;124msingle\u001b[39m\u001b[38;5;124m'\u001b[39m, metric\u001b[38;5;241m=\u001b[39m\u001b[38;5;124m'\u001b[39m\u001b[38;5;124mprecomputed\u001b[39m\u001b[38;5;124m'\u001b[39m, memory\u001b[38;5;241m=\u001b[39m\u001b[38;5;28mdir\u001b[39m)\n\u001b[1;32m----> 3\u001b[0m     clusters_lsingle \u001b[38;5;241m=\u001b[39m \u001b[43mmodel_single\u001b[49m\u001b[38;5;241;43m.\u001b[39;49m\u001b[43mfit_predict\u001b[49m\u001b[43m(\u001b[49m\u001b[43mgower_dists\u001b[49m\u001b[43m)\u001b[49m\n\u001b[0;32m      4\u001b[0m clusters_lsingle\n",
      "File \u001b[1;32m~\\.pyenv\\pyenv-win\\versions\\3.10.11\\lib\\site-packages\\sklearn\\cluster\\_agglomerative.py:1124\u001b[0m, in \u001b[0;36mAgglomerativeClustering.fit_predict\u001b[1;34m(self, X, y)\u001b[0m\n\u001b[0;32m   1103\u001b[0m \u001b[38;5;28;01mdef\u001b[39;00m \u001b[38;5;21mfit_predict\u001b[39m(\u001b[38;5;28mself\u001b[39m, X, y\u001b[38;5;241m=\u001b[39m\u001b[38;5;28;01mNone\u001b[39;00m):\n\u001b[0;32m   1104\u001b[0m \u001b[38;5;250m    \u001b[39m\u001b[38;5;124;03m\"\"\"Fit and return the result of each sample's clustering assignment.\u001b[39;00m\n\u001b[0;32m   1105\u001b[0m \n\u001b[0;32m   1106\u001b[0m \u001b[38;5;124;03m    In addition to fitting, this method also return the result of the\u001b[39;00m\n\u001b[1;32m   (...)\u001b[0m\n\u001b[0;32m   1122\u001b[0m \u001b[38;5;124;03m        Cluster labels.\u001b[39;00m\n\u001b[0;32m   1123\u001b[0m \u001b[38;5;124;03m    \"\"\"\u001b[39;00m\n\u001b[1;32m-> 1124\u001b[0m     \u001b[38;5;28;01mreturn\u001b[39;00m \u001b[38;5;28;43msuper\u001b[39;49m\u001b[43m(\u001b[49m\u001b[43m)\u001b[49m\u001b[38;5;241;43m.\u001b[39;49m\u001b[43mfit_predict\u001b[49m\u001b[43m(\u001b[49m\u001b[43mX\u001b[49m\u001b[43m,\u001b[49m\u001b[43m \u001b[49m\u001b[43my\u001b[49m\u001b[43m)\u001b[49m\n",
      "File \u001b[1;32m~\\.pyenv\\pyenv-win\\versions\\3.10.11\\lib\\site-packages\\sklearn\\base.py:791\u001b[0m, in \u001b[0;36mClusterMixin.fit_predict\u001b[1;34m(self, X, y)\u001b[0m\n\u001b[0;32m    773\u001b[0m \u001b[38;5;250m\u001b[39m\u001b[38;5;124;03m\"\"\"\u001b[39;00m\n\u001b[0;32m    774\u001b[0m \u001b[38;5;124;03mPerform clustering on `X` and returns cluster labels.\u001b[39;00m\n\u001b[0;32m    775\u001b[0m \n\u001b[1;32m   (...)\u001b[0m\n\u001b[0;32m    787\u001b[0m \u001b[38;5;124;03m    Cluster labels.\u001b[39;00m\n\u001b[0;32m    788\u001b[0m \u001b[38;5;124;03m\"\"\"\u001b[39;00m\n\u001b[0;32m    789\u001b[0m \u001b[38;5;66;03m# non-optimized default implementation; override when a better\u001b[39;00m\n\u001b[0;32m    790\u001b[0m \u001b[38;5;66;03m# method is possible for a given clustering algorithm\u001b[39;00m\n\u001b[1;32m--> 791\u001b[0m \u001b[38;5;28;43mself\u001b[39;49m\u001b[38;5;241;43m.\u001b[39;49m\u001b[43mfit\u001b[49m\u001b[43m(\u001b[49m\u001b[43mX\u001b[49m\u001b[43m)\u001b[49m\n\u001b[0;32m    792\u001b[0m \u001b[38;5;28;01mreturn\u001b[39;00m \u001b[38;5;28mself\u001b[39m\u001b[38;5;241m.\u001b[39mlabels_\n",
      "File \u001b[1;32m~\\.pyenv\\pyenv-win\\versions\\3.10.11\\lib\\site-packages\\sklearn\\base.py:1152\u001b[0m, in \u001b[0;36m_fit_context.<locals>.decorator.<locals>.wrapper\u001b[1;34m(estimator, *args, **kwargs)\u001b[0m\n\u001b[0;32m   1145\u001b[0m     estimator\u001b[38;5;241m.\u001b[39m_validate_params()\n\u001b[0;32m   1147\u001b[0m \u001b[38;5;28;01mwith\u001b[39;00m config_context(\n\u001b[0;32m   1148\u001b[0m     skip_parameter_validation\u001b[38;5;241m=\u001b[39m(\n\u001b[0;32m   1149\u001b[0m         prefer_skip_nested_validation \u001b[38;5;129;01mor\u001b[39;00m global_skip_validation\n\u001b[0;32m   1150\u001b[0m     )\n\u001b[0;32m   1151\u001b[0m ):\n\u001b[1;32m-> 1152\u001b[0m     \u001b[38;5;28;01mreturn\u001b[39;00m fit_method(estimator, \u001b[38;5;241m*\u001b[39margs, \u001b[38;5;241m*\u001b[39m\u001b[38;5;241m*\u001b[39mkwargs)\n",
      "File \u001b[1;32m~\\.pyenv\\pyenv-win\\versions\\3.10.11\\lib\\site-packages\\sklearn\\cluster\\_agglomerative.py:979\u001b[0m, in \u001b[0;36mAgglomerativeClustering.fit\u001b[1;34m(self, X, y)\u001b[0m\n\u001b[0;32m    961\u001b[0m \u001b[38;5;250m\u001b[39m\u001b[38;5;124;03m\"\"\"Fit the hierarchical clustering from features, or distance matrix.\u001b[39;00m\n\u001b[0;32m    962\u001b[0m \n\u001b[0;32m    963\u001b[0m \u001b[38;5;124;03mParameters\u001b[39;00m\n\u001b[1;32m   (...)\u001b[0m\n\u001b[0;32m    976\u001b[0m \u001b[38;5;124;03m    Returns the fitted instance.\u001b[39;00m\n\u001b[0;32m    977\u001b[0m \u001b[38;5;124;03m\"\"\"\u001b[39;00m\n\u001b[0;32m    978\u001b[0m X \u001b[38;5;241m=\u001b[39m \u001b[38;5;28mself\u001b[39m\u001b[38;5;241m.\u001b[39m_validate_data(X, ensure_min_samples\u001b[38;5;241m=\u001b[39m\u001b[38;5;241m2\u001b[39m)\n\u001b[1;32m--> 979\u001b[0m \u001b[38;5;28;01mreturn\u001b[39;00m \u001b[38;5;28;43mself\u001b[39;49m\u001b[38;5;241;43m.\u001b[39;49m\u001b[43m_fit\u001b[49m\u001b[43m(\u001b[49m\u001b[43mX\u001b[49m\u001b[43m)\u001b[49m\n",
      "File \u001b[1;32m~\\.pyenv\\pyenv-win\\versions\\3.10.11\\lib\\site-packages\\sklearn\\cluster\\_agglomerative.py:1071\u001b[0m, in \u001b[0;36mAgglomerativeClustering._fit\u001b[1;34m(self, X)\u001b[0m\n\u001b[0;32m   1067\u001b[0m distance_threshold \u001b[38;5;241m=\u001b[39m \u001b[38;5;28mself\u001b[39m\u001b[38;5;241m.\u001b[39mdistance_threshold\n\u001b[0;32m   1069\u001b[0m return_distance \u001b[38;5;241m=\u001b[39m (distance_threshold \u001b[38;5;129;01mis\u001b[39;00m \u001b[38;5;129;01mnot\u001b[39;00m \u001b[38;5;28;01mNone\u001b[39;00m) \u001b[38;5;129;01mor\u001b[39;00m \u001b[38;5;28mself\u001b[39m\u001b[38;5;241m.\u001b[39mcompute_distances\n\u001b[1;32m-> 1071\u001b[0m out \u001b[38;5;241m=\u001b[39m memory\u001b[38;5;241m.\u001b[39mcache(tree_builder)(\n\u001b[0;32m   1072\u001b[0m     X,\n\u001b[0;32m   1073\u001b[0m     connectivity\u001b[38;5;241m=\u001b[39mconnectivity,\n\u001b[0;32m   1074\u001b[0m     n_clusters\u001b[38;5;241m=\u001b[39mn_clusters,\n\u001b[0;32m   1075\u001b[0m     return_distance\u001b[38;5;241m=\u001b[39mreturn_distance,\n\u001b[0;32m   1076\u001b[0m     \u001b[38;5;241m*\u001b[39m\u001b[38;5;241m*\u001b[39mkwargs,\n\u001b[0;32m   1077\u001b[0m )\n\u001b[0;32m   1078\u001b[0m (\u001b[38;5;28mself\u001b[39m\u001b[38;5;241m.\u001b[39mchildren_, \u001b[38;5;28mself\u001b[39m\u001b[38;5;241m.\u001b[39mn_connected_components_, \u001b[38;5;28mself\u001b[39m\u001b[38;5;241m.\u001b[39mn_leaves_, parents) \u001b[38;5;241m=\u001b[39m out[\n\u001b[0;32m   1079\u001b[0m     :\u001b[38;5;241m4\u001b[39m\n\u001b[0;32m   1080\u001b[0m ]\n\u001b[0;32m   1082\u001b[0m \u001b[38;5;28;01mif\u001b[39;00m return_distance:\n",
      "File \u001b[1;32m~\\.pyenv\\pyenv-win\\versions\\3.10.11\\lib\\site-packages\\joblib\\memory.py:655\u001b[0m, in \u001b[0;36mMemorizedFunc.__call__\u001b[1;34m(self, *args, **kwargs)\u001b[0m\n\u001b[0;32m    654\u001b[0m \u001b[38;5;28;01mdef\u001b[39;00m \u001b[38;5;21m__call__\u001b[39m(\u001b[38;5;28mself\u001b[39m, \u001b[38;5;241m*\u001b[39margs, \u001b[38;5;241m*\u001b[39m\u001b[38;5;241m*\u001b[39mkwargs):\n\u001b[1;32m--> 655\u001b[0m     \u001b[38;5;28;01mreturn\u001b[39;00m \u001b[38;5;28;43mself\u001b[39;49m\u001b[38;5;241;43m.\u001b[39;49m\u001b[43m_cached_call\u001b[49m\u001b[43m(\u001b[49m\u001b[43margs\u001b[49m\u001b[43m,\u001b[49m\u001b[43m \u001b[49m\u001b[43mkwargs\u001b[49m\u001b[43m)\u001b[49m[\u001b[38;5;241m0\u001b[39m]\n",
      "File \u001b[1;32m~\\.pyenv\\pyenv-win\\versions\\3.10.11\\lib\\site-packages\\joblib\\memory.py:598\u001b[0m, in \u001b[0;36mMemorizedFunc._cached_call\u001b[1;34m(self, args, kwargs, shelving)\u001b[0m\n\u001b[0;32m    595\u001b[0m     must_call \u001b[38;5;241m=\u001b[39m \u001b[38;5;28;01mTrue\u001b[39;00m\n\u001b[0;32m    597\u001b[0m \u001b[38;5;28;01mif\u001b[39;00m must_call:\n\u001b[1;32m--> 598\u001b[0m     out, metadata \u001b[38;5;241m=\u001b[39m \u001b[38;5;28mself\u001b[39m\u001b[38;5;241m.\u001b[39mcall(\u001b[38;5;241m*\u001b[39margs, \u001b[38;5;241m*\u001b[39m\u001b[38;5;241m*\u001b[39mkwargs)\n\u001b[0;32m    599\u001b[0m     \u001b[38;5;28;01mif\u001b[39;00m \u001b[38;5;28mself\u001b[39m\u001b[38;5;241m.\u001b[39mmmap_mode \u001b[38;5;129;01mis\u001b[39;00m \u001b[38;5;129;01mnot\u001b[39;00m \u001b[38;5;28;01mNone\u001b[39;00m:\n\u001b[0;32m    600\u001b[0m         \u001b[38;5;66;03m# Memmap the output at the first call to be consistent with\u001b[39;00m\n\u001b[0;32m    601\u001b[0m         \u001b[38;5;66;03m# later calls\u001b[39;00m\n\u001b[0;32m    602\u001b[0m         \u001b[38;5;28;01mif\u001b[39;00m \u001b[38;5;28mself\u001b[39m\u001b[38;5;241m.\u001b[39m_verbose:\n",
      "File \u001b[1;32m~\\.pyenv\\pyenv-win\\versions\\3.10.11\\lib\\site-packages\\joblib\\memory.py:856\u001b[0m, in \u001b[0;36mMemorizedFunc.call\u001b[1;34m(self, *args, **kwargs)\u001b[0m\n\u001b[0;32m    854\u001b[0m \u001b[38;5;28;01mif\u001b[39;00m \u001b[38;5;28mself\u001b[39m\u001b[38;5;241m.\u001b[39m_verbose \u001b[38;5;241m>\u001b[39m \u001b[38;5;241m0\u001b[39m:\n\u001b[0;32m    855\u001b[0m     \u001b[38;5;28mprint\u001b[39m(format_call(\u001b[38;5;28mself\u001b[39m\u001b[38;5;241m.\u001b[39mfunc, args, kwargs))\n\u001b[1;32m--> 856\u001b[0m output \u001b[38;5;241m=\u001b[39m \u001b[38;5;28mself\u001b[39m\u001b[38;5;241m.\u001b[39mfunc(\u001b[38;5;241m*\u001b[39margs, \u001b[38;5;241m*\u001b[39m\u001b[38;5;241m*\u001b[39mkwargs)\n\u001b[0;32m    857\u001b[0m \u001b[38;5;28mself\u001b[39m\u001b[38;5;241m.\u001b[39mstore_backend\u001b[38;5;241m.\u001b[39mdump_item(\n\u001b[0;32m    858\u001b[0m     [func_id, args_id], output, verbose\u001b[38;5;241m=\u001b[39m\u001b[38;5;28mself\u001b[39m\u001b[38;5;241m.\u001b[39m_verbose)\n\u001b[0;32m    860\u001b[0m duration \u001b[38;5;241m=\u001b[39m time\u001b[38;5;241m.\u001b[39mtime() \u001b[38;5;241m-\u001b[39m start_time\n",
      "File \u001b[1;32m~\\.pyenv\\pyenv-win\\versions\\3.10.11\\lib\\site-packages\\sklearn\\cluster\\_agglomerative.py:698\u001b[0m, in \u001b[0;36m_single_linkage\u001b[1;34m(*args, **kwargs)\u001b[0m\n\u001b[0;32m    696\u001b[0m \u001b[38;5;28;01mdef\u001b[39;00m \u001b[38;5;21m_single_linkage\u001b[39m(\u001b[38;5;241m*\u001b[39margs, \u001b[38;5;241m*\u001b[39m\u001b[38;5;241m*\u001b[39mkwargs):\n\u001b[0;32m    697\u001b[0m     kwargs[\u001b[38;5;124m\"\u001b[39m\u001b[38;5;124mlinkage\u001b[39m\u001b[38;5;124m\"\u001b[39m] \u001b[38;5;241m=\u001b[39m \u001b[38;5;124m\"\u001b[39m\u001b[38;5;124msingle\u001b[39m\u001b[38;5;124m\"\u001b[39m\n\u001b[1;32m--> 698\u001b[0m     \u001b[38;5;28;01mreturn\u001b[39;00m linkage_tree(\u001b[38;5;241m*\u001b[39margs, \u001b[38;5;241m*\u001b[39m\u001b[38;5;241m*\u001b[39mkwargs)\n",
      "File \u001b[1;32m~\\.pyenv\\pyenv-win\\versions\\3.10.11\\lib\\site-packages\\sklearn\\cluster\\_agglomerative.py:537\u001b[0m, in \u001b[0;36mlinkage_tree\u001b[1;34m(X, connectivity, n_clusters, linkage, affinity, return_distance)\u001b[0m\n\u001b[0;32m    533\u001b[0m     \u001b[38;5;28;01mif\u001b[39;00m X\u001b[38;5;241m.\u001b[39mshape[\u001b[38;5;241m0\u001b[39m] \u001b[38;5;241m!=\u001b[39m X\u001b[38;5;241m.\u001b[39mshape[\u001b[38;5;241m1\u001b[39m]:\n\u001b[0;32m    534\u001b[0m         \u001b[38;5;28;01mraise\u001b[39;00m \u001b[38;5;167;01mValueError\u001b[39;00m(\n\u001b[0;32m    535\u001b[0m             \u001b[38;5;124mf\u001b[39m\u001b[38;5;124m\"\u001b[39m\u001b[38;5;124mDistance matrix should be square, got matrix of shape \u001b[39m\u001b[38;5;132;01m{\u001b[39;00mX\u001b[38;5;241m.\u001b[39mshape\u001b[38;5;132;01m}\u001b[39;00m\u001b[38;5;124m\"\u001b[39m\n\u001b[0;32m    536\u001b[0m         )\n\u001b[1;32m--> 537\u001b[0m     i, j \u001b[38;5;241m=\u001b[39m \u001b[43mnp\u001b[49m\u001b[38;5;241;43m.\u001b[39;49m\u001b[43mtriu_indices\u001b[49m\u001b[43m(\u001b[49m\u001b[43mX\u001b[49m\u001b[38;5;241;43m.\u001b[39;49m\u001b[43mshape\u001b[49m\u001b[43m[\u001b[49m\u001b[38;5;241;43m0\u001b[39;49m\u001b[43m]\u001b[49m\u001b[43m,\u001b[49m\u001b[43m \u001b[49m\u001b[43mk\u001b[49m\u001b[38;5;241;43m=\u001b[39;49m\u001b[38;5;241;43m1\u001b[39;49m\u001b[43m)\u001b[49m\n\u001b[0;32m    538\u001b[0m     X \u001b[38;5;241m=\u001b[39m X[i, j]\n\u001b[0;32m    539\u001b[0m \u001b[38;5;28;01melif\u001b[39;00m affinity \u001b[38;5;241m==\u001b[39m \u001b[38;5;124m\"\u001b[39m\u001b[38;5;124ml2\u001b[39m\u001b[38;5;124m\"\u001b[39m:\n\u001b[0;32m    540\u001b[0m     \u001b[38;5;66;03m# Translate to something understood by scipy\u001b[39;00m\n",
      "File \u001b[1;32m~\\.pyenv\\pyenv-win\\versions\\3.10.11\\lib\\site-packages\\numpy\\lib\\twodim_base.py:1113\u001b[0m, in \u001b[0;36mtriu_indices\u001b[1;34m(n, k, m)\u001b[0m\n\u001b[0;32m   1033\u001b[0m \u001b[38;5;129m@set_module\u001b[39m(\u001b[38;5;124m'\u001b[39m\u001b[38;5;124mnumpy\u001b[39m\u001b[38;5;124m'\u001b[39m)\n\u001b[0;32m   1034\u001b[0m \u001b[38;5;28;01mdef\u001b[39;00m \u001b[38;5;21mtriu_indices\u001b[39m(n, k\u001b[38;5;241m=\u001b[39m\u001b[38;5;241m0\u001b[39m, m\u001b[38;5;241m=\u001b[39m\u001b[38;5;28;01mNone\u001b[39;00m):\n\u001b[0;32m   1035\u001b[0m \u001b[38;5;250m    \u001b[39m\u001b[38;5;124;03m\"\"\"\u001b[39;00m\n\u001b[0;32m   1036\u001b[0m \u001b[38;5;124;03m    Return the indices for the upper-triangle of an (n, m) array.\u001b[39;00m\n\u001b[0;32m   1037\u001b[0m \n\u001b[1;32m   (...)\u001b[0m\n\u001b[0;32m   1111\u001b[0m \n\u001b[0;32m   1112\u001b[0m \u001b[38;5;124;03m    \"\"\"\u001b[39;00m\n\u001b[1;32m-> 1113\u001b[0m     tri_ \u001b[38;5;241m=\u001b[39m \u001b[38;5;241;43m~\u001b[39;49m\u001b[43mtri\u001b[49m\u001b[43m(\u001b[49m\u001b[43mn\u001b[49m\u001b[43m,\u001b[49m\u001b[43m \u001b[49m\u001b[43mm\u001b[49m\u001b[43m,\u001b[49m\u001b[43m \u001b[49m\u001b[43mk\u001b[49m\u001b[38;5;241;43m=\u001b[39;49m\u001b[43mk\u001b[49m\u001b[43m \u001b[49m\u001b[38;5;241;43m-\u001b[39;49m\u001b[43m \u001b[49m\u001b[38;5;241;43m1\u001b[39;49m\u001b[43m,\u001b[49m\u001b[43m \u001b[49m\u001b[43mdtype\u001b[49m\u001b[38;5;241;43m=\u001b[39;49m\u001b[38;5;28;43mbool\u001b[39;49m\u001b[43m)\u001b[49m\n\u001b[0;32m   1115\u001b[0m     \u001b[38;5;28;01mreturn\u001b[39;00m \u001b[38;5;28mtuple\u001b[39m(broadcast_to(inds, tri_\u001b[38;5;241m.\u001b[39mshape)[tri_]\n\u001b[0;32m   1116\u001b[0m                  \u001b[38;5;28;01mfor\u001b[39;00m inds \u001b[38;5;129;01min\u001b[39;00m indices(tri_\u001b[38;5;241m.\u001b[39mshape, sparse\u001b[38;5;241m=\u001b[39m\u001b[38;5;28;01mTrue\u001b[39;00m))\n",
      "\u001b[1;31mMemoryError\u001b[0m: Unable to allocate 17.8 GiB for an array with shape (138273, 138273) and data type bool"
     ]
    }
   ],
   "source": [
    "# Memory of computing ~100K clustering too much, need to provide temp dir\n",
    "with tempfile.TemporaryDirectory() as dir:\n",
    "    model_single = AgglomerativeClustering(n_clusters=3, linkage='single', metric='precomputed', memory=dir)\n",
    "    clusters_lsingle = model_single.fit_predict(gower_dists)\n",
    "clusters_lsingle"
   ]
  },
  {
   "cell_type": "code",
   "execution_count": 66,
   "id": "11df05cc-1025-41fb-bf04-5e787b70494f",
   "metadata": {
    "execution": {
     "iopub.execute_input": "2023-12-06T07:14:01.286440Z",
     "iopub.status.busy": "2023-12-06T07:14:01.285943Z",
     "iopub.status.idle": "2023-12-06T07:14:01.668061Z",
     "shell.execute_reply": "2023-12-06T07:14:01.668061Z",
     "shell.execute_reply.started": "2023-12-06T07:14:01.286440Z"
    }
   },
   "outputs": [
    {
     "data": {
      "text/plain": [
       "QuestionId\n",
       "199    0.002145\n",
       "911    0.002137\n",
       "89     0.002132\n",
       "855    0.002130\n",
       "764    0.002127\n",
       "         ...   \n",
       "832    0.000003\n",
       "606    0.000003\n",
       "153    0.000003\n",
       "810    0.000003\n",
       "603    0.000003\n",
       "Name: proportion, Length: 948, dtype: float64"
      ]
     },
     "execution_count": 66,
     "metadata": {},
     "output_type": "execute_result"
    }
   ],
   "source": [
    "df_total[[\"QuestionId\", \"UserId\"]].value_counts()\n",
    "\n",
    "df_total[(df_total[\"QuestionId\"] == 626) & (df_total[\"UserId\"] == 4508)]\n",
    "\n",
    "df_total[\"QuestionId\"].value_counts(normalize=True)\n",
    "# pd.DataFrame(df_total[cluster_cols].drop(columns=\"DateAnswered\").value_counts(dropna=False)).reset_index()"
   ]
  },
  {
   "cell_type": "markdown",
   "id": "2547ca35-b9be-425c-b87d-b38784703d4c",
   "metadata": {},
   "source": [
    "### Save clustering values"
   ]
  },
  {
   "cell_type": "code",
   "execution_count": 39,
   "id": "c1353dae-d5cb-4460-8cb9-395a981cadb6",
   "metadata": {
    "execution": {
     "iopub.execute_input": "2023-12-06T01:27:20.687992Z",
     "iopub.status.busy": "2023-12-06T01:27:20.687495Z",
     "iopub.status.idle": "2023-12-06T01:54:13.131206Z",
     "shell.execute_reply": "2023-12-06T01:54:13.114816Z",
     "shell.execute_reply.started": "2023-12-06T01:27:20.687992Z"
    }
   },
   "outputs": [],
   "source": [
    "df_cluster[\"Clusters_K\"] = df_total.loc[df_cluster.index, \"Clusters_K\"]\n",
    "# df_cluster[\"Clusters_l_s\"] = clusters_lsingle\n",
    "df_cluster.to_csv(os.path.join(data_dir, \"Output\", \"cluster_results.csv\"))\n",
    "\n",
    "# np.save(os.path.join(data_dir, \"Output\", \"gower_dists.npy\"), gower_dists)"
   ]
  },
  {
   "cell_type": "markdown",
   "id": "2cc1a18d-a876-4848-8559-5db31ac7a080",
   "metadata": {},
   "source": [
    "### Rand Index Comparison"
   ]
  },
  {
   "cell_type": "code",
   "execution_count": 77,
   "id": "f581c29d-fdca-486c-ba80-be56c7358dc3",
   "metadata": {
    "execution": {
     "iopub.execute_input": "2023-12-06T07:33:45.135937Z",
     "iopub.status.busy": "2023-12-06T07:33:45.135937Z",
     "iopub.status.idle": "2023-12-06T07:33:45.262754Z",
     "shell.execute_reply": "2023-12-06T07:33:45.262257Z",
     "shell.execute_reply.started": "2023-12-06T07:33:45.135937Z"
    }
   },
   "outputs": [
    {
     "name": "stdout",
     "output_type": "stream",
     "text": [
      "Clustering Rand score: 0.663110886278148 \t adjusted rand score: 0.2913337558766249\n"
     ]
    }
   ],
   "source": [
    "df_total[\"Category1\"] = df_total[\"Category1\"].astype(\"category\").cat.set_categories([\"Geometry and Measure\", \"Algebra\", \"Number\"], ordered=True)\n",
    "df_rand = df_total[~df_total[\"Clusters_K\"].isna()][[\"Category1\", \"Clusters_K\"]]\n",
    "\n",
    "r1 = metrics.rand_score(df_rand[\"Category1\"].cat.codes, df_rand[\"Clusters_K\"])\n",
    "r2 = metrics.adjusted_rand_score(df_rand[\"Category1\"].cat.codes, df_rand[\"Clusters_K\"])\n",
    "\n",
    "print(f\"Clustering Rand score: {r1} \\t adjusted rand score: {r2}\")\n"
   ]
  },
  {
   "cell_type": "markdown",
   "id": "ac97afce-7865-4039-a7a6-00781acbcbc1",
   "metadata": {},
   "source": [
    "## Logistic Regression\n",
    "\n",
    "[link](https://www.justintodata.com/logistic-regression-example-in-python/)"
   ]
  },
  {
   "cell_type": "markdown",
   "id": "0fc74380-007d-40f8-86a2-edfbd2f61d46",
   "metadata": {},
   "source": [
    "### Make data for supervised learning models"
   ]
  },
  {
   "cell_type": "code",
   "execution_count": 54,
   "id": "de6bc8a2-7382-4445-96dc-a8adf7c46ecc",
   "metadata": {
    "execution": {
     "iopub.execute_input": "2023-12-06T08:57:52.247747Z",
     "iopub.status.busy": "2023-12-06T08:57:52.247250Z",
     "iopub.status.idle": "2023-12-06T08:57:56.624130Z",
     "shell.execute_reply": "2023-12-06T08:57:56.624130Z",
     "shell.execute_reply.started": "2023-12-06T08:57:52.247747Z"
    }
   },
   "outputs": [],
   "source": [
    "def minmaxnorm(col):\n",
    "    return (col - col.min())/(col.max()-col.min())\n",
    "\n",
    "## Make DF for use with supervised learning models\n",
    "cat_cols = [\"Gender\",  \"Age\", \"Category1\"]\n",
    "scale_cols = [\"QuestionId\", \"UserId\", \"GroupId\", \"QuizId\", \"DateAnswered\"]\n",
    "reg_cols = cat_cols + scale_cols + [\"Confidence\", \"PremiumPupil\", \"IsCorrect\"]\n",
    "df_reg = df_total[reg_cols].fillna(0).astype({c:\"category\" for c in cat_cols})\n",
    "df_reg.DateAnswered = df_reg.DateAnswered.dt.strftime(\"%Y%m%d\").astype(int)\n",
    "# Min-max normalization\n",
    "for c in scale_cols:\n",
    "    df_reg[c] = minmaxnorm(df_reg[c])\n",
    "df_reg = pd.get_dummies(df_reg, columns=cat_cols , dtype=int)\n",
    "# Move target column to end\n",
    "cols = list(df_reg.columns)\n",
    "cols.append(cols.pop(7))\n",
    "df_reg = df_reg[cols]\n",
    "\n",
    "reg_train, reg_test = train_test_split(df_reg, train_size=0.9, random_state=42, stratify=df_reg[\"IsCorrect\"])"
   ]
  },
  {
   "cell_type": "code",
   "execution_count": 63,
   "id": "268a6010-b577-481b-b022-1d8ceec7ada9",
   "metadata": {
    "execution": {
     "iopub.execute_input": "2023-12-06T09:04:26.765958Z",
     "iopub.status.busy": "2023-12-06T09:04:26.765958Z",
     "iopub.status.idle": "2023-12-06T09:04:26.935321Z",
     "shell.execute_reply": "2023-12-06T09:04:26.934824Z",
     "shell.execute_reply.started": "2023-12-06T09:04:26.765958Z"
    }
   },
   "outputs": [
    {
     "data": {
      "text/html": [
       "<div>\n",
       "<style scoped>\n",
       "    .dataframe tbody tr th:only-of-type {\n",
       "        vertical-align: middle;\n",
       "    }\n",
       "\n",
       "    .dataframe tbody tr th {\n",
       "        vertical-align: top;\n",
       "    }\n",
       "\n",
       "    .dataframe thead th {\n",
       "        text-align: right;\n",
       "    }\n",
       "</style>\n",
       "<table border=\"1\" class=\"dataframe\">\n",
       "  <thead>\n",
       "    <tr style=\"text-align: right;\">\n",
       "      <th></th>\n",
       "      <th>QuestionId</th>\n",
       "      <th>UserId</th>\n",
       "      <th>GroupId</th>\n",
       "      <th>QuizId</th>\n",
       "      <th>DateAnswered</th>\n",
       "      <th>Confidence</th>\n",
       "      <th>PremiumPupil</th>\n",
       "      <th>Gender_0</th>\n",
       "      <th>Gender_1</th>\n",
       "      <th>Gender_2</th>\n",
       "      <th>...</th>\n",
       "      <th>Age_12.0</th>\n",
       "      <th>Age_13.0</th>\n",
       "      <th>Age_14.0</th>\n",
       "      <th>Age_15.0</th>\n",
       "      <th>Age_16.0</th>\n",
       "      <th>Age_38.0</th>\n",
       "      <th>Category1_Algebra</th>\n",
       "      <th>Category1_Geometry and Measure</th>\n",
       "      <th>Category1_Number</th>\n",
       "      <th>IsCorrect</th>\n",
       "    </tr>\n",
       "  </thead>\n",
       "  <tbody>\n",
       "    <tr>\n",
       "      <th>112756</th>\n",
       "      <td>0.791975</td>\n",
       "      <td>0.570127</td>\n",
       "      <td>0.136247</td>\n",
       "      <td>0.252101</td>\n",
       "      <td>0.979364</td>\n",
       "      <td>0.0</td>\n",
       "      <td>False</td>\n",
       "      <td>0</td>\n",
       "      <td>0</td>\n",
       "      <td>1</td>\n",
       "      <td>...</td>\n",
       "      <td>1</td>\n",
       "      <td>0</td>\n",
       "      <td>0</td>\n",
       "      <td>0</td>\n",
       "      <td>0</td>\n",
       "      <td>0</td>\n",
       "      <td>0</td>\n",
       "      <td>1</td>\n",
       "      <td>0</td>\n",
       "      <td>1</td>\n",
       "    </tr>\n",
       "    <tr>\n",
       "      <th>1029526</th>\n",
       "      <td>0.099261</td>\n",
       "      <td>0.480150</td>\n",
       "      <td>0.419023</td>\n",
       "      <td>0.302521</td>\n",
       "      <td>0.961126</td>\n",
       "      <td>0.0</td>\n",
       "      <td>False</td>\n",
       "      <td>0</td>\n",
       "      <td>1</td>\n",
       "      <td>0</td>\n",
       "      <td>...</td>\n",
       "      <td>0</td>\n",
       "      <td>0</td>\n",
       "      <td>0</td>\n",
       "      <td>0</td>\n",
       "      <td>0</td>\n",
       "      <td>0</td>\n",
       "      <td>0</td>\n",
       "      <td>1</td>\n",
       "      <td>0</td>\n",
       "      <td>1</td>\n",
       "    </tr>\n",
       "    <tr>\n",
       "      <th>477381</th>\n",
       "      <td>0.090813</td>\n",
       "      <td>0.658314</td>\n",
       "      <td>0.483290</td>\n",
       "      <td>0.411765</td>\n",
       "      <td>0.969463</td>\n",
       "      <td>0.0</td>\n",
       "      <td>False</td>\n",
       "      <td>1</td>\n",
       "      <td>0</td>\n",
       "      <td>0</td>\n",
       "      <td>...</td>\n",
       "      <td>0</td>\n",
       "      <td>0</td>\n",
       "      <td>0</td>\n",
       "      <td>0</td>\n",
       "      <td>0</td>\n",
       "      <td>0</td>\n",
       "      <td>0</td>\n",
       "      <td>0</td>\n",
       "      <td>1</td>\n",
       "      <td>1</td>\n",
       "    </tr>\n",
       "    <tr>\n",
       "      <th>950700</th>\n",
       "      <td>0.819430</td>\n",
       "      <td>0.821022</td>\n",
       "      <td>0.652956</td>\n",
       "      <td>0.462185</td>\n",
       "      <td>0.980094</td>\n",
       "      <td>0.0</td>\n",
       "      <td>False</td>\n",
       "      <td>0</td>\n",
       "      <td>0</td>\n",
       "      <td>1</td>\n",
       "      <td>...</td>\n",
       "      <td>1</td>\n",
       "      <td>0</td>\n",
       "      <td>0</td>\n",
       "      <td>0</td>\n",
       "      <td>0</td>\n",
       "      <td>0</td>\n",
       "      <td>1</td>\n",
       "      <td>0</td>\n",
       "      <td>0</td>\n",
       "      <td>0</td>\n",
       "    </tr>\n",
       "    <tr>\n",
       "      <th>1200436</th>\n",
       "      <td>0.729673</td>\n",
       "      <td>0.717052</td>\n",
       "      <td>0.411311</td>\n",
       "      <td>0.630252</td>\n",
       "      <td>0.010839</td>\n",
       "      <td>0.0</td>\n",
       "      <td>False</td>\n",
       "      <td>1</td>\n",
       "      <td>0</td>\n",
       "      <td>0</td>\n",
       "      <td>...</td>\n",
       "      <td>0</td>\n",
       "      <td>0</td>\n",
       "      <td>0</td>\n",
       "      <td>0</td>\n",
       "      <td>0</td>\n",
       "      <td>0</td>\n",
       "      <td>0</td>\n",
       "      <td>1</td>\n",
       "      <td>0</td>\n",
       "      <td>0</td>\n",
       "    </tr>\n",
       "    <tr>\n",
       "      <th>...</th>\n",
       "      <td>...</td>\n",
       "      <td>...</td>\n",
       "      <td>...</td>\n",
       "      <td>...</td>\n",
       "      <td>...</td>\n",
       "      <td>...</td>\n",
       "      <td>...</td>\n",
       "      <td>...</td>\n",
       "      <td>...</td>\n",
       "      <td>...</td>\n",
       "      <td>...</td>\n",
       "      <td>...</td>\n",
       "      <td>...</td>\n",
       "      <td>...</td>\n",
       "      <td>...</td>\n",
       "      <td>...</td>\n",
       "      <td>...</td>\n",
       "      <td>...</td>\n",
       "      <td>...</td>\n",
       "      <td>...</td>\n",
       "      <td>...</td>\n",
       "    </tr>\n",
       "    <tr>\n",
       "      <th>1163265</th>\n",
       "      <td>0.732841</td>\n",
       "      <td>0.170192</td>\n",
       "      <td>0.480720</td>\n",
       "      <td>0.941176</td>\n",
       "      <td>0.991767</td>\n",
       "      <td>0.0</td>\n",
       "      <td>False</td>\n",
       "      <td>0</td>\n",
       "      <td>1</td>\n",
       "      <td>0</td>\n",
       "      <td>...</td>\n",
       "      <td>1</td>\n",
       "      <td>0</td>\n",
       "      <td>0</td>\n",
       "      <td>0</td>\n",
       "      <td>0</td>\n",
       "      <td>0</td>\n",
       "      <td>0</td>\n",
       "      <td>0</td>\n",
       "      <td>1</td>\n",
       "      <td>0</td>\n",
       "    </tr>\n",
       "    <tr>\n",
       "      <th>641727</th>\n",
       "      <td>0.659979</td>\n",
       "      <td>0.990888</td>\n",
       "      <td>0.946015</td>\n",
       "      <td>0.932773</td>\n",
       "      <td>0.969151</td>\n",
       "      <td>0.0</td>\n",
       "      <td>False</td>\n",
       "      <td>0</td>\n",
       "      <td>1</td>\n",
       "      <td>0</td>\n",
       "      <td>...</td>\n",
       "      <td>0</td>\n",
       "      <td>0</td>\n",
       "      <td>0</td>\n",
       "      <td>0</td>\n",
       "      <td>0</td>\n",
       "      <td>0</td>\n",
       "      <td>0</td>\n",
       "      <td>1</td>\n",
       "      <td>0</td>\n",
       "      <td>1</td>\n",
       "    </tr>\n",
       "    <tr>\n",
       "      <th>982201</th>\n",
       "      <td>0.796199</td>\n",
       "      <td>0.843150</td>\n",
       "      <td>0.619537</td>\n",
       "      <td>0.521008</td>\n",
       "      <td>0.032308</td>\n",
       "      <td>50.0</td>\n",
       "      <td>False</td>\n",
       "      <td>1</td>\n",
       "      <td>0</td>\n",
       "      <td>0</td>\n",
       "      <td>...</td>\n",
       "      <td>0</td>\n",
       "      <td>0</td>\n",
       "      <td>0</td>\n",
       "      <td>0</td>\n",
       "      <td>0</td>\n",
       "      <td>0</td>\n",
       "      <td>0</td>\n",
       "      <td>0</td>\n",
       "      <td>1</td>\n",
       "      <td>1</td>\n",
       "    </tr>\n",
       "    <tr>\n",
       "      <th>347054</th>\n",
       "      <td>0.240760</td>\n",
       "      <td>0.324601</td>\n",
       "      <td>0.570694</td>\n",
       "      <td>0.647059</td>\n",
       "      <td>0.971652</td>\n",
       "      <td>0.0</td>\n",
       "      <td>False</td>\n",
       "      <td>1</td>\n",
       "      <td>0</td>\n",
       "      <td>0</td>\n",
       "      <td>...</td>\n",
       "      <td>0</td>\n",
       "      <td>0</td>\n",
       "      <td>0</td>\n",
       "      <td>0</td>\n",
       "      <td>0</td>\n",
       "      <td>0</td>\n",
       "      <td>1</td>\n",
       "      <td>0</td>\n",
       "      <td>0</td>\n",
       "      <td>0</td>\n",
       "    </tr>\n",
       "    <tr>\n",
       "      <th>1174818</th>\n",
       "      <td>0.014784</td>\n",
       "      <td>0.833550</td>\n",
       "      <td>0.825193</td>\n",
       "      <td>0.773109</td>\n",
       "      <td>0.969776</td>\n",
       "      <td>0.0</td>\n",
       "      <td>True</td>\n",
       "      <td>0</td>\n",
       "      <td>1</td>\n",
       "      <td>0</td>\n",
       "      <td>...</td>\n",
       "      <td>0</td>\n",
       "      <td>0</td>\n",
       "      <td>0</td>\n",
       "      <td>0</td>\n",
       "      <td>0</td>\n",
       "      <td>0</td>\n",
       "      <td>0</td>\n",
       "      <td>1</td>\n",
       "      <td>0</td>\n",
       "      <td>1</td>\n",
       "    </tr>\n",
       "  </tbody>\n",
       "</table>\n",
       "<p>1244454 rows × 25 columns</p>\n",
       "</div>"
      ],
      "text/plain": [
       "         QuestionId    UserId   GroupId    QuizId  DateAnswered  Confidence  \\\n",
       "112756     0.791975  0.570127  0.136247  0.252101      0.979364         0.0   \n",
       "1029526    0.099261  0.480150  0.419023  0.302521      0.961126         0.0   \n",
       "477381     0.090813  0.658314  0.483290  0.411765      0.969463         0.0   \n",
       "950700     0.819430  0.821022  0.652956  0.462185      0.980094         0.0   \n",
       "1200436    0.729673  0.717052  0.411311  0.630252      0.010839         0.0   \n",
       "...             ...       ...       ...       ...           ...         ...   \n",
       "1163265    0.732841  0.170192  0.480720  0.941176      0.991767         0.0   \n",
       "641727     0.659979  0.990888  0.946015  0.932773      0.969151         0.0   \n",
       "982201     0.796199  0.843150  0.619537  0.521008      0.032308        50.0   \n",
       "347054     0.240760  0.324601  0.570694  0.647059      0.971652         0.0   \n",
       "1174818    0.014784  0.833550  0.825193  0.773109      0.969776         0.0   \n",
       "\n",
       "         PremiumPupil  Gender_0  Gender_1  Gender_2  ...  Age_12.0  Age_13.0  \\\n",
       "112756          False         0         0         1  ...         1         0   \n",
       "1029526         False         0         1         0  ...         0         0   \n",
       "477381          False         1         0         0  ...         0         0   \n",
       "950700          False         0         0         1  ...         1         0   \n",
       "1200436         False         1         0         0  ...         0         0   \n",
       "...               ...       ...       ...       ...  ...       ...       ...   \n",
       "1163265         False         0         1         0  ...         1         0   \n",
       "641727          False         0         1         0  ...         0         0   \n",
       "982201          False         1         0         0  ...         0         0   \n",
       "347054          False         1         0         0  ...         0         0   \n",
       "1174818          True         0         1         0  ...         0         0   \n",
       "\n",
       "         Age_14.0  Age_15.0  Age_16.0  Age_38.0  Category1_Algebra  \\\n",
       "112756          0         0         0         0                  0   \n",
       "1029526         0         0         0         0                  0   \n",
       "477381          0         0         0         0                  0   \n",
       "950700          0         0         0         0                  1   \n",
       "1200436         0         0         0         0                  0   \n",
       "...           ...       ...       ...       ...                ...   \n",
       "1163265         0         0         0         0                  0   \n",
       "641727          0         0         0         0                  0   \n",
       "982201          0         0         0         0                  0   \n",
       "347054          0         0         0         0                  1   \n",
       "1174818         0         0         0         0                  0   \n",
       "\n",
       "         Category1_Geometry and Measure  Category1_Number  IsCorrect  \n",
       "112756                                1                 0          1  \n",
       "1029526                               1                 0          1  \n",
       "477381                                0                 1          1  \n",
       "950700                                0                 0          0  \n",
       "1200436                               1                 0          0  \n",
       "...                                 ...               ...        ...  \n",
       "1163265                               0                 1          0  \n",
       "641727                                1                 0          1  \n",
       "982201                                0                 1          1  \n",
       "347054                                0                 0          0  \n",
       "1174818                               1                 0          1  \n",
       "\n",
       "[1244454 rows x 25 columns]"
      ]
     },
     "execution_count": 63,
     "metadata": {},
     "output_type": "execute_result"
    }
   ],
   "source": [
    "# pd.get_dummies(df_reg, columns=[\"Gender\", \"Age\", \"Category1\"] , dtype=int)\n",
    "# df_reg[list(df_reg.columns) + [\"IsCorrect\"]]\n",
    "\n",
    "reg_train"
   ]
  },
  {
   "cell_type": "code",
   "execution_count": 59,
   "id": "9d0c6808-27b0-4942-b8cc-c2e2f04eea1e",
   "metadata": {
    "execution": {
     "iopub.execute_input": "2023-12-06T09:01:45.924670Z",
     "iopub.status.busy": "2023-12-06T09:01:45.924174Z",
     "iopub.status.idle": "2023-12-06T09:01:56.808491Z",
     "shell.execute_reply": "2023-12-06T09:01:56.807497Z",
     "shell.execute_reply.started": "2023-12-06T09:01:45.924670Z"
    }
   },
   "outputs": [
    {
     "data": {
      "text/html": [
       "<style>#sk-container-id-5 {color: black;}#sk-container-id-5 pre{padding: 0;}#sk-container-id-5 div.sk-toggleable {background-color: white;}#sk-container-id-5 label.sk-toggleable__label {cursor: pointer;display: block;width: 100%;margin-bottom: 0;padding: 0.3em;box-sizing: border-box;text-align: center;}#sk-container-id-5 label.sk-toggleable__label-arrow:before {content: \"▸\";float: left;margin-right: 0.25em;color: #696969;}#sk-container-id-5 label.sk-toggleable__label-arrow:hover:before {color: black;}#sk-container-id-5 div.sk-estimator:hover label.sk-toggleable__label-arrow:before {color: black;}#sk-container-id-5 div.sk-toggleable__content {max-height: 0;max-width: 0;overflow: hidden;text-align: left;background-color: #f0f8ff;}#sk-container-id-5 div.sk-toggleable__content pre {margin: 0.2em;color: black;border-radius: 0.25em;background-color: #f0f8ff;}#sk-container-id-5 input.sk-toggleable__control:checked~div.sk-toggleable__content {max-height: 200px;max-width: 100%;overflow: auto;}#sk-container-id-5 input.sk-toggleable__control:checked~label.sk-toggleable__label-arrow:before {content: \"▾\";}#sk-container-id-5 div.sk-estimator input.sk-toggleable__control:checked~label.sk-toggleable__label {background-color: #d4ebff;}#sk-container-id-5 div.sk-label input.sk-toggleable__control:checked~label.sk-toggleable__label {background-color: #d4ebff;}#sk-container-id-5 input.sk-hidden--visually {border: 0;clip: rect(1px 1px 1px 1px);clip: rect(1px, 1px, 1px, 1px);height: 1px;margin: -1px;overflow: hidden;padding: 0;position: absolute;width: 1px;}#sk-container-id-5 div.sk-estimator {font-family: monospace;background-color: #f0f8ff;border: 1px dotted black;border-radius: 0.25em;box-sizing: border-box;margin-bottom: 0.5em;}#sk-container-id-5 div.sk-estimator:hover {background-color: #d4ebff;}#sk-container-id-5 div.sk-parallel-item::after {content: \"\";width: 100%;border-bottom: 1px solid gray;flex-grow: 1;}#sk-container-id-5 div.sk-label:hover label.sk-toggleable__label {background-color: #d4ebff;}#sk-container-id-5 div.sk-serial::before {content: \"\";position: absolute;border-left: 1px solid gray;box-sizing: border-box;top: 0;bottom: 0;left: 50%;z-index: 0;}#sk-container-id-5 div.sk-serial {display: flex;flex-direction: column;align-items: center;background-color: white;padding-right: 0.2em;padding-left: 0.2em;position: relative;}#sk-container-id-5 div.sk-item {position: relative;z-index: 1;}#sk-container-id-5 div.sk-parallel {display: flex;align-items: stretch;justify-content: center;background-color: white;position: relative;}#sk-container-id-5 div.sk-item::before, #sk-container-id-5 div.sk-parallel-item::before {content: \"\";position: absolute;border-left: 1px solid gray;box-sizing: border-box;top: 0;bottom: 0;left: 50%;z-index: -1;}#sk-container-id-5 div.sk-parallel-item {display: flex;flex-direction: column;z-index: 1;position: relative;background-color: white;}#sk-container-id-5 div.sk-parallel-item:first-child::after {align-self: flex-end;width: 50%;}#sk-container-id-5 div.sk-parallel-item:last-child::after {align-self: flex-start;width: 50%;}#sk-container-id-5 div.sk-parallel-item:only-child::after {width: 0;}#sk-container-id-5 div.sk-dashed-wrapped {border: 1px dashed gray;margin: 0 0.4em 0.5em 0.4em;box-sizing: border-box;padding-bottom: 0.4em;background-color: white;}#sk-container-id-5 div.sk-label label {font-family: monospace;font-weight: bold;display: inline-block;line-height: 1.2em;}#sk-container-id-5 div.sk-label-container {text-align: center;}#sk-container-id-5 div.sk-container {/* jupyter's `normalize.less` sets `[hidden] { display: none; }` but bootstrap.min.css set `[hidden] { display: none !important; }` so we also need the `!important` here to be able to override the default hidden behavior on the sphinx rendered scikit-learn.org. See: https://github.com/scikit-learn/scikit-learn/issues/21755 */display: inline-block !important;position: relative;}#sk-container-id-5 div.sk-text-repr-fallback {display: none;}</style><div id=\"sk-container-id-5\" class=\"sk-top-container\"><div class=\"sk-text-repr-fallback\"><pre>LogisticRegression(max_iter=150, n_jobs=6, penalty=None,\n",
       "                   solver=&#x27;newton-cholesky&#x27;, tol=1e-05)</pre><b>In a Jupyter environment, please rerun this cell to show the HTML representation or trust the notebook. <br />On GitHub, the HTML representation is unable to render, please try loading this page with nbviewer.org.</b></div><div class=\"sk-container\" hidden><div class=\"sk-item\"><div class=\"sk-estimator sk-toggleable\"><input class=\"sk-toggleable__control sk-hidden--visually\" id=\"sk-estimator-id-5\" type=\"checkbox\" checked><label for=\"sk-estimator-id-5\" class=\"sk-toggleable__label sk-toggleable__label-arrow\">LogisticRegression</label><div class=\"sk-toggleable__content\"><pre>LogisticRegression(max_iter=150, n_jobs=6, penalty=None,\n",
       "                   solver=&#x27;newton-cholesky&#x27;, tol=1e-05)</pre></div></div></div></div></div>"
      ],
      "text/plain": [
       "LogisticRegression(max_iter=150, n_jobs=6, penalty=None,\n",
       "                   solver='newton-cholesky', tol=1e-05)"
      ]
     },
     "execution_count": 59,
     "metadata": {},
     "output_type": "execute_result"
    }
   ],
   "source": [
    "# df_reg.iloc[:, :-1]\n",
    "reg = LogisticRegression(penalty=None, solver=\"newton-cholesky\", max_iter=150, n_jobs=6, tol=0.00001)\n",
    "reg.fit(X=reg_train.iloc[:, :-1], y=reg_train[\"IsCorrect\"])"
   ]
  },
  {
   "cell_type": "code",
   "execution_count": 60,
   "id": "1b238b01-1a7c-4316-a7ba-6f0cdbaa95db",
   "metadata": {
    "execution": {
     "iopub.execute_input": "2023-12-06T09:02:00.009622Z",
     "iopub.status.busy": "2023-12-06T09:02:00.009125Z",
     "iopub.status.idle": "2023-12-06T09:02:00.068725Z",
     "shell.execute_reply": "2023-12-06T09:02:00.068229Z",
     "shell.execute_reply.started": "2023-12-06T09:02:00.009622Z"
    }
   },
   "outputs": [
    {
     "name": "stdout",
     "output_type": "stream",
     "text": [
      "0.5703137995125585\n",
      "0.5703137995125585\n"
     ]
    }
   ],
   "source": [
    "print(reg.score(reg_test.iloc[:, :-1], reg_test[\"IsCorrect\"]))\n",
    "# reg.get_params(deep=True)\n",
    "score = reg.predict(reg_test.iloc[:, :-1])\n",
    "print(sum(score == reg_test[\"IsCorrect\"])/len(score))"
   ]
  },
  {
   "cell_type": "markdown",
   "id": "ef49d8a7-68f9-40b6-80ec-5d768c7edd89",
   "metadata": {},
   "source": [
    "### Evaluate Performance of Logistic Regression"
   ]
  },
  {
   "cell_type": "code",
   "execution_count": 72,
   "id": "4e175c88-7384-4235-be54-7c8079d9895d",
   "metadata": {
    "execution": {
     "iopub.execute_input": "2023-12-06T09:15:35.542516Z",
     "iopub.status.busy": "2023-12-06T09:15:35.542020Z",
     "iopub.status.idle": "2023-12-06T09:15:35.950903Z",
     "shell.execute_reply": "2023-12-06T09:15:35.950406Z",
     "shell.execute_reply.started": "2023-12-06T09:15:35.542516Z"
    }
   },
   "outputs": [
    {
     "data": {
      "text/plain": [
       "<sklearn.metrics._plot.precision_recall_curve.PrecisionRecallDisplay at 0x1cfa301f100>"
      ]
     },
     "execution_count": 72,
     "metadata": {},
     "output_type": "execute_result"
    },
    {
     "data": {
      "image/png": "[encoded data removed]",
      "text/plain": [
       "<Figure size 640x480 with 1 Axes>"
      ]
     },
     "metadata": {},
     "output_type": "display_data"
    },
    {
     "data": {
      "image/png": "[encoded data removed]",
      "text/plain": [
       "<Figure size 640x480 with 2 Axes>"
      ]
     },
     "metadata": {},
     "output_type": "display_data"
    },
    {
     "data": {
      "image/png": "[encoded data removed]",
      "text/plain": [
       "<Figure size 640x480 with 1 Axes>"
      ]
     },
     "metadata": {},
     "output_type": "display_data"
    }
   ],
   "source": [
    "RocCurveDisplay.from_estimator(reg, reg_test.iloc[:, :-1], reg_test[\"IsCorrect\"])\n",
    "ConfusionMatrixDisplay.from_estimator(reg, reg_test.iloc[:, :-1], reg_test[\"IsCorrect\"])\n",
    "PrecisionRecallDisplay.from_estimator(reg, reg_test.iloc[:, :-1], reg_test[\"IsCorrect\"])"
   ]
  },
  {
   "cell_type": "markdown",
   "id": "897a721d-be17-4692-b665-7ecfe195583f",
   "metadata": {},
   "source": [
    "## Other Supervised Learning Models"
   ]
  },
  {
   "cell_type": "code",
   "execution_count": 64,
   "id": "59dc642d-0de0-44df-ae6c-8deec52306cc",
   "metadata": {
    "execution": {
     "iopub.execute_input": "2023-12-06T09:05:47.921223Z",
     "iopub.status.busy": "2023-12-06T09:05:47.920726Z",
     "iopub.status.idle": "2023-12-06T09:05:49.675449Z",
     "shell.execute_reply": "2023-12-06T09:05:49.674455Z",
     "shell.execute_reply.started": "2023-12-06T09:05:47.921223Z"
    }
   },
   "outputs": [
    {
     "data": {
      "text/html": [
       "<style>#sk-container-id-7 {color: black;}#sk-container-id-7 pre{padding: 0;}#sk-container-id-7 div.sk-toggleable {background-color: white;}#sk-container-id-7 label.sk-toggleable__label {cursor: pointer;display: block;width: 100%;margin-bottom: 0;padding: 0.3em;box-sizing: border-box;text-align: center;}#sk-container-id-7 label.sk-toggleable__label-arrow:before {content: \"▸\";float: left;margin-right: 0.25em;color: #696969;}#sk-container-id-7 label.sk-toggleable__label-arrow:hover:before {color: black;}#sk-container-id-7 div.sk-estimator:hover label.sk-toggleable__label-arrow:before {color: black;}#sk-container-id-7 div.sk-toggleable__content {max-height: 0;max-width: 0;overflow: hidden;text-align: left;background-color: #f0f8ff;}#sk-container-id-7 div.sk-toggleable__content pre {margin: 0.2em;color: black;border-radius: 0.25em;background-color: #f0f8ff;}#sk-container-id-7 input.sk-toggleable__control:checked~div.sk-toggleable__content {max-height: 200px;max-width: 100%;overflow: auto;}#sk-container-id-7 input.sk-toggleable__control:checked~label.sk-toggleable__label-arrow:before {content: \"▾\";}#sk-container-id-7 div.sk-estimator input.sk-toggleable__control:checked~label.sk-toggleable__label {background-color: #d4ebff;}#sk-container-id-7 div.sk-label input.sk-toggleable__control:checked~label.sk-toggleable__label {background-color: #d4ebff;}#sk-container-id-7 input.sk-hidden--visually {border: 0;clip: rect(1px 1px 1px 1px);clip: rect(1px, 1px, 1px, 1px);height: 1px;margin: -1px;overflow: hidden;padding: 0;position: absolute;width: 1px;}#sk-container-id-7 div.sk-estimator {font-family: monospace;background-color: #f0f8ff;border: 1px dotted black;border-radius: 0.25em;box-sizing: border-box;margin-bottom: 0.5em;}#sk-container-id-7 div.sk-estimator:hover {background-color: #d4ebff;}#sk-container-id-7 div.sk-parallel-item::after {content: \"\";width: 100%;border-bottom: 1px solid gray;flex-grow: 1;}#sk-container-id-7 div.sk-label:hover label.sk-toggleable__label {background-color: #d4ebff;}#sk-container-id-7 div.sk-serial::before {content: \"\";position: absolute;border-left: 1px solid gray;box-sizing: border-box;top: 0;bottom: 0;left: 50%;z-index: 0;}#sk-container-id-7 div.sk-serial {display: flex;flex-direction: column;align-items: center;background-color: white;padding-right: 0.2em;padding-left: 0.2em;position: relative;}#sk-container-id-7 div.sk-item {position: relative;z-index: 1;}#sk-container-id-7 div.sk-parallel {display: flex;align-items: stretch;justify-content: center;background-color: white;position: relative;}#sk-container-id-7 div.sk-item::before, #sk-container-id-7 div.sk-parallel-item::before {content: \"\";position: absolute;border-left: 1px solid gray;box-sizing: border-box;top: 0;bottom: 0;left: 50%;z-index: -1;}#sk-container-id-7 div.sk-parallel-item {display: flex;flex-direction: column;z-index: 1;position: relative;background-color: white;}#sk-container-id-7 div.sk-parallel-item:first-child::after {align-self: flex-end;width: 50%;}#sk-container-id-7 div.sk-parallel-item:last-child::after {align-self: flex-start;width: 50%;}#sk-container-id-7 div.sk-parallel-item:only-child::after {width: 0;}#sk-container-id-7 div.sk-dashed-wrapped {border: 1px dashed gray;margin: 0 0.4em 0.5em 0.4em;box-sizing: border-box;padding-bottom: 0.4em;background-color: white;}#sk-container-id-7 div.sk-label label {font-family: monospace;font-weight: bold;display: inline-block;line-height: 1.2em;}#sk-container-id-7 div.sk-label-container {text-align: center;}#sk-container-id-7 div.sk-container {/* jupyter's `normalize.less` sets `[hidden] { display: none; }` but bootstrap.min.css set `[hidden] { display: none !important; }` so we also need the `!important` here to be able to override the default hidden behavior on the sphinx rendered scikit-learn.org. See: https://github.com/scikit-learn/scikit-learn/issues/21755 */display: inline-block !important;position: relative;}#sk-container-id-7 div.sk-text-repr-fallback {display: none;}</style><div id=\"sk-container-id-7\" class=\"sk-top-container\"><div class=\"sk-text-repr-fallback\"><pre>Perceptron(n_jobs=6)</pre><b>In a Jupyter environment, please rerun this cell to show the HTML representation or trust the notebook. <br />On GitHub, the HTML representation is unable to render, please try loading this page with nbviewer.org.</b></div><div class=\"sk-container\" hidden><div class=\"sk-item\"><div class=\"sk-estimator sk-toggleable\"><input class=\"sk-toggleable__control sk-hidden--visually\" id=\"sk-estimator-id-7\" type=\"checkbox\" checked><label for=\"sk-estimator-id-7\" class=\"sk-toggleable__label sk-toggleable__label-arrow\">Perceptron</label><div class=\"sk-toggleable__content\"><pre>Perceptron(n_jobs=6)</pre></div></div></div></div></div>"
      ],
      "text/plain": [
       "Perceptron(n_jobs=6)"
      ]
     },
     "execution_count": 64,
     "metadata": {},
     "output_type": "execute_result"
    }
   ],
   "source": [
    "perceptron = Perceptron(n_jobs=6)\n",
    "perceptron.fit(X=reg_train.iloc[:, :-1], y=reg_train[\"IsCorrect\"])"
   ]
  },
  {
   "cell_type": "code",
   "execution_count": 66,
   "id": "7081d9cf-990a-4fd7-af9f-9800f9d423c9",
   "metadata": {
    "execution": {
     "iopub.execute_input": "2023-12-06T09:06:06.859918Z",
     "iopub.status.busy": "2023-12-06T09:06:06.859421Z",
     "iopub.status.idle": "2023-12-06T09:06:06.903734Z",
     "shell.execute_reply": "2023-12-06T09:06:06.903734Z",
     "shell.execute_reply.started": "2023-12-06T09:06:06.859918Z"
    }
   },
   "outputs": [
    {
     "name": "stdout",
     "output_type": "stream",
     "text": [
      "0.47190702450948485\n"
     ]
    }
   ],
   "source": [
    "print(perceptron.score(reg_test.iloc[:, :-1], reg_test[\"IsCorrect\"]))"
   ]
  },
  {
   "cell_type": "code",
   "execution_count": 74,
   "id": "a0414d60-bf45-4849-a724-3da345546e3b",
   "metadata": {
    "execution": {
     "iopub.execute_input": "2023-12-06T09:19:21.040973Z",
     "iopub.status.busy": "2023-12-06T09:19:21.040477Z",
     "iopub.status.idle": "2023-12-06T09:22:11.391729Z",
     "shell.execute_reply": "2023-12-06T09:22:11.390736Z",
     "shell.execute_reply.started": "2023-12-06T09:19:21.040973Z"
    }
   },
   "outputs": [
    {
     "name": "stderr",
     "output_type": "stream",
     "text": [
      "C:\\Users\\Bhavana\\.pyenv\\pyenv-win\\versions\\3.10.11\\lib\\site-packages\\sklearn\\svm\\_classes.py:32: FutureWarning:\n",
      "\n",
      "The default value of `dual` will change from `True` to `'auto'` in 1.5. Set the value of `dual` explicitly to suppress the warning.\n",
      "\n",
      "C:\\Users\\Bhavana\\.pyenv\\pyenv-win\\versions\\3.10.11\\lib\\site-packages\\sklearn\\svm\\_base.py:1250: ConvergenceWarning:\n",
      "\n",
      "Liblinear failed to converge, increase the number of iterations.\n",
      "\n"
     ]
    },
    {
     "data": {
      "text/html": [
       "<style>#sk-container-id-8 {color: black;}#sk-container-id-8 pre{padding: 0;}#sk-container-id-8 div.sk-toggleable {background-color: white;}#sk-container-id-8 label.sk-toggleable__label {cursor: pointer;display: block;width: 100%;margin-bottom: 0;padding: 0.3em;box-sizing: border-box;text-align: center;}#sk-container-id-8 label.sk-toggleable__label-arrow:before {content: \"▸\";float: left;margin-right: 0.25em;color: #696969;}#sk-container-id-8 label.sk-toggleable__label-arrow:hover:before {color: black;}#sk-container-id-8 div.sk-estimator:hover label.sk-toggleable__label-arrow:before {color: black;}#sk-container-id-8 div.sk-toggleable__content {max-height: 0;max-width: 0;overflow: hidden;text-align: left;background-color: #f0f8ff;}#sk-container-id-8 div.sk-toggleable__content pre {margin: 0.2em;color: black;border-radius: 0.25em;background-color: #f0f8ff;}#sk-container-id-8 input.sk-toggleable__control:checked~div.sk-toggleable__content {max-height: 200px;max-width: 100%;overflow: auto;}#sk-container-id-8 input.sk-toggleable__control:checked~label.sk-toggleable__label-arrow:before {content: \"▾\";}#sk-container-id-8 div.sk-estimator input.sk-toggleable__control:checked~label.sk-toggleable__label {background-color: #d4ebff;}#sk-container-id-8 div.sk-label input.sk-toggleable__control:checked~label.sk-toggleable__label {background-color: #d4ebff;}#sk-container-id-8 input.sk-hidden--visually {border: 0;clip: rect(1px 1px 1px 1px);clip: rect(1px, 1px, 1px, 1px);height: 1px;margin: -1px;overflow: hidden;padding: 0;position: absolute;width: 1px;}#sk-container-id-8 div.sk-estimator {font-family: monospace;background-color: #f0f8ff;border: 1px dotted black;border-radius: 0.25em;box-sizing: border-box;margin-bottom: 0.5em;}#sk-container-id-8 div.sk-estimator:hover {background-color: #d4ebff;}#sk-container-id-8 div.sk-parallel-item::after {content: \"\";width: 100%;border-bottom: 1px solid gray;flex-grow: 1;}#sk-container-id-8 div.sk-label:hover label.sk-toggleable__label {background-color: #d4ebff;}#sk-container-id-8 div.sk-serial::before {content: \"\";position: absolute;border-left: 1px solid gray;box-sizing: border-box;top: 0;bottom: 0;left: 50%;z-index: 0;}#sk-container-id-8 div.sk-serial {display: flex;flex-direction: column;align-items: center;background-color: white;padding-right: 0.2em;padding-left: 0.2em;position: relative;}#sk-container-id-8 div.sk-item {position: relative;z-index: 1;}#sk-container-id-8 div.sk-parallel {display: flex;align-items: stretch;justify-content: center;background-color: white;position: relative;}#sk-container-id-8 div.sk-item::before, #sk-container-id-8 div.sk-parallel-item::before {content: \"\";position: absolute;border-left: 1px solid gray;box-sizing: border-box;top: 0;bottom: 0;left: 50%;z-index: -1;}#sk-container-id-8 div.sk-parallel-item {display: flex;flex-direction: column;z-index: 1;position: relative;background-color: white;}#sk-container-id-8 div.sk-parallel-item:first-child::after {align-self: flex-end;width: 50%;}#sk-container-id-8 div.sk-parallel-item:last-child::after {align-self: flex-start;width: 50%;}#sk-container-id-8 div.sk-parallel-item:only-child::after {width: 0;}#sk-container-id-8 div.sk-dashed-wrapped {border: 1px dashed gray;margin: 0 0.4em 0.5em 0.4em;box-sizing: border-box;padding-bottom: 0.4em;background-color: white;}#sk-container-id-8 div.sk-label label {font-family: monospace;font-weight: bold;display: inline-block;line-height: 1.2em;}#sk-container-id-8 div.sk-label-container {text-align: center;}#sk-container-id-8 div.sk-container {/* jupyter's `normalize.less` sets `[hidden] { display: none; }` but bootstrap.min.css set `[hidden] { display: none !important; }` so we also need the `!important` here to be able to override the default hidden behavior on the sphinx rendered scikit-learn.org. See: https://github.com/scikit-learn/scikit-learn/issues/21755 */display: inline-block !important;position: relative;}#sk-container-id-8 div.sk-text-repr-fallback {display: none;}</style><div id=\"sk-container-id-8\" class=\"sk-top-container\"><div class=\"sk-text-repr-fallback\"><pre>LinearSVC()</pre><b>In a Jupyter environment, please rerun this cell to show the HTML representation or trust the notebook. <br />On GitHub, the HTML representation is unable to render, please try loading this page with nbviewer.org.</b></div><div class=\"sk-container\" hidden><div class=\"sk-item\"><div class=\"sk-estimator sk-toggleable\"><input class=\"sk-toggleable__control sk-hidden--visually\" id=\"sk-estimator-id-8\" type=\"checkbox\" checked><label for=\"sk-estimator-id-8\" class=\"sk-toggleable__label sk-toggleable__label-arrow\">LinearSVC</label><div class=\"sk-toggleable__content\"><pre>LinearSVC()</pre></div></div></div></div></div>"
      ],
      "text/plain": [
       "LinearSVC()"
      ]
     },
     "execution_count": 74,
     "metadata": {},
     "output_type": "execute_result"
    }
   ],
   "source": [
    "svc = LinearSVC(dual=False)\n",
    "svc.fit(X=reg_train.iloc[:, :-1], y=reg_train[\"IsCorrect\"])"
   ]
  },
  {
   "cell_type": "code",
   "execution_count": 75,
   "id": "75bcde6e-9ad8-40fb-9619-dea73f6de899",
   "metadata": {
    "execution": {
     "iopub.execute_input": "2023-12-06T09:22:20.734878Z",
     "iopub.status.busy": "2023-12-06T09:22:20.734381Z",
     "iopub.status.idle": "2023-12-06T09:22:20.779085Z",
     "shell.execute_reply": "2023-12-06T09:22:20.778588Z",
     "shell.execute_reply.started": "2023-12-06T09:22:20.734878Z"
    }
   },
   "outputs": [
    {
     "name": "stdout",
     "output_type": "stream",
     "text": [
      "0.5702053184641976\n"
     ]
    }
   ],
   "source": [
    "print(svc.score(reg_test.iloc[:, :-1], reg_test[\"IsCorrect\"]))"
   ]
  },
  {
   "cell_type": "code",
   "execution_count": 80,
   "id": "2af103f8-b371-4def-b4f9-654c7a1040ae",
   "metadata": {
    "execution": {
     "iopub.execute_input": "2023-12-06T09:25:32.799763Z",
     "iopub.status.busy": "2023-12-06T09:25:32.799266Z",
     "iopub.status.idle": "2023-12-06T09:25:42.751173Z",
     "shell.execute_reply": "2023-12-06T09:25:42.750677Z",
     "shell.execute_reply.started": "2023-12-06T09:25:32.799763Z"
    }
   },
   "outputs": [
    {
     "data": {
      "text/html": [
       "<style>#sk-container-id-11 {color: black;}#sk-container-id-11 pre{padding: 0;}#sk-container-id-11 div.sk-toggleable {background-color: white;}#sk-container-id-11 label.sk-toggleable__label {cursor: pointer;display: block;width: 100%;margin-bottom: 0;padding: 0.3em;box-sizing: border-box;text-align: center;}#sk-container-id-11 label.sk-toggleable__label-arrow:before {content: \"▸\";float: left;margin-right: 0.25em;color: #696969;}#sk-container-id-11 label.sk-toggleable__label-arrow:hover:before {color: black;}#sk-container-id-11 div.sk-estimator:hover label.sk-toggleable__label-arrow:before {color: black;}#sk-container-id-11 div.sk-toggleable__content {max-height: 0;max-width: 0;overflow: hidden;text-align: left;background-color: #f0f8ff;}#sk-container-id-11 div.sk-toggleable__content pre {margin: 0.2em;color: black;border-radius: 0.25em;background-color: #f0f8ff;}#sk-container-id-11 input.sk-toggleable__control:checked~div.sk-toggleable__content {max-height: 200px;max-width: 100%;overflow: auto;}#sk-container-id-11 input.sk-toggleable__control:checked~label.sk-toggleable__label-arrow:before {content: \"▾\";}#sk-container-id-11 div.sk-estimator input.sk-toggleable__control:checked~label.sk-toggleable__label {background-color: #d4ebff;}#sk-container-id-11 div.sk-label input.sk-toggleable__control:checked~label.sk-toggleable__label {background-color: #d4ebff;}#sk-container-id-11 input.sk-hidden--visually {border: 0;clip: rect(1px 1px 1px 1px);clip: rect(1px, 1px, 1px, 1px);height: 1px;margin: -1px;overflow: hidden;padding: 0;position: absolute;width: 1px;}#sk-container-id-11 div.sk-estimator {font-family: monospace;background-color: #f0f8ff;border: 1px dotted black;border-radius: 0.25em;box-sizing: border-box;margin-bottom: 0.5em;}#sk-container-id-11 div.sk-estimator:hover {background-color: #d4ebff;}#sk-container-id-11 div.sk-parallel-item::after {content: \"\";width: 100%;border-bottom: 1px solid gray;flex-grow: 1;}#sk-container-id-11 div.sk-label:hover label.sk-toggleable__label {background-color: #d4ebff;}#sk-container-id-11 div.sk-serial::before {content: \"\";position: absolute;border-left: 1px solid gray;box-sizing: border-box;top: 0;bottom: 0;left: 50%;z-index: 0;}#sk-container-id-11 div.sk-serial {display: flex;flex-direction: column;align-items: center;background-color: white;padding-right: 0.2em;padding-left: 0.2em;position: relative;}#sk-container-id-11 div.sk-item {position: relative;z-index: 1;}#sk-container-id-11 div.sk-parallel {display: flex;align-items: stretch;justify-content: center;background-color: white;position: relative;}#sk-container-id-11 div.sk-item::before, #sk-container-id-11 div.sk-parallel-item::before {content: \"\";position: absolute;border-left: 1px solid gray;box-sizing: border-box;top: 0;bottom: 0;left: 50%;z-index: -1;}#sk-container-id-11 div.sk-parallel-item {display: flex;flex-direction: column;z-index: 1;position: relative;background-color: white;}#sk-container-id-11 div.sk-parallel-item:first-child::after {align-self: flex-end;width: 50%;}#sk-container-id-11 div.sk-parallel-item:last-child::after {align-self: flex-start;width: 50%;}#sk-container-id-11 div.sk-parallel-item:only-child::after {width: 0;}#sk-container-id-11 div.sk-dashed-wrapped {border: 1px dashed gray;margin: 0 0.4em 0.5em 0.4em;box-sizing: border-box;padding-bottom: 0.4em;background-color: white;}#sk-container-id-11 div.sk-label label {font-family: monospace;font-weight: bold;display: inline-block;line-height: 1.2em;}#sk-container-id-11 div.sk-label-container {text-align: center;}#sk-container-id-11 div.sk-container {/* jupyter's `normalize.less` sets `[hidden] { display: none; }` but bootstrap.min.css set `[hidden] { display: none !important; }` so we also need the `!important` here to be able to override the default hidden behavior on the sphinx rendered scikit-learn.org. See: https://github.com/scikit-learn/scikit-learn/issues/21755 */display: inline-block !important;position: relative;}#sk-container-id-11 div.sk-text-repr-fallback {display: none;}</style><div id=\"sk-container-id-11\" class=\"sk-top-container\"><div class=\"sk-text-repr-fallback\"><pre>SGDClassifier(n_jobs=6)</pre><b>In a Jupyter environment, please rerun this cell to show the HTML representation or trust the notebook. <br />On GitHub, the HTML representation is unable to render, please try loading this page with nbviewer.org.</b></div><div class=\"sk-container\" hidden><div class=\"sk-item\"><div class=\"sk-estimator sk-toggleable\"><input class=\"sk-toggleable__control sk-hidden--visually\" id=\"sk-estimator-id-11\" type=\"checkbox\" checked><label for=\"sk-estimator-id-11\" class=\"sk-toggleable__label sk-toggleable__label-arrow\">SGDClassifier</label><div class=\"sk-toggleable__content\"><pre>SGDClassifier(n_jobs=6)</pre></div></div></div></div></div>"
      ],
      "text/plain": [
       "SGDClassifier(n_jobs=6)"
      ]
     },
     "execution_count": 80,
     "metadata": {},
     "output_type": "execute_result"
    }
   ],
   "source": [
    "svm = SGDClassifier(n_jobs=6)\n",
    "svm.fit(X=reg_train.iloc[:, :-1], y=reg_train[\"IsCorrect\"])"
   ]
  },
  {
   "cell_type": "code",
   "execution_count": 81,
   "id": "d0c9e730-cad2-4bb7-8d47-5fcb1df9d0e4",
   "metadata": {
    "execution": {
     "iopub.execute_input": "2023-12-06T09:25:44.896879Z",
     "iopub.status.busy": "2023-12-06T09:25:44.896383Z",
     "iopub.status.idle": "2023-12-06T09:25:44.962678Z",
     "shell.execute_reply": "2023-12-06T09:25:44.962181Z",
     "shell.execute_reply.started": "2023-12-06T09:25:44.896879Z"
    }
   },
   "outputs": [
    {
     "name": "stdout",
     "output_type": "stream",
     "text": [
      "0.5640002024979569\n"
     ]
    }
   ],
   "source": [
    "print(svm.score(reg_test.iloc[:, :-1], reg_test[\"IsCorrect\"]))"
   ]
  },
  {
   "cell_type": "markdown",
   "id": "5ac3e548-2fa3-4200-93e4-bc925a626a20",
   "metadata": {},
   "source": [
    "## Random Forest Regression\n",
    "\n",
    "https://towardsdatascience.com/random-forest-regression-5f605132d19d"
   ]
  },
  {
   "cell_type": "code",
   "execution_count": 83,
   "id": "bef11ad3-5604-4ab7-9e8f-32ecf6732445",
   "metadata": {
    "execution": {
     "iopub.execute_input": "2023-12-06T09:31:51.998677Z",
     "iopub.status.busy": "2023-12-06T09:31:51.998181Z",
     "iopub.status.idle": "2023-12-06T09:32:01.044681Z",
     "shell.execute_reply": "2023-12-06T09:32:01.044184Z",
     "shell.execute_reply.started": "2023-12-06T09:31:51.998677Z"
    }
   },
   "outputs": [
    {
     "data": {
      "text/html": [
       "<style>#sk-container-id-12 {color: black;}#sk-container-id-12 pre{padding: 0;}#sk-container-id-12 div.sk-toggleable {background-color: white;}#sk-container-id-12 label.sk-toggleable__label {cursor: pointer;display: block;width: 100%;margin-bottom: 0;padding: 0.3em;box-sizing: border-box;text-align: center;}#sk-container-id-12 label.sk-toggleable__label-arrow:before {content: \"▸\";float: left;margin-right: 0.25em;color: #696969;}#sk-container-id-12 label.sk-toggleable__label-arrow:hover:before {color: black;}#sk-container-id-12 div.sk-estimator:hover label.sk-toggleable__label-arrow:before {color: black;}#sk-container-id-12 div.sk-toggleable__content {max-height: 0;max-width: 0;overflow: hidden;text-align: left;background-color: #f0f8ff;}#sk-container-id-12 div.sk-toggleable__content pre {margin: 0.2em;color: black;border-radius: 0.25em;background-color: #f0f8ff;}#sk-container-id-12 input.sk-toggleable__control:checked~div.sk-toggleable__content {max-height: 200px;max-width: 100%;overflow: auto;}#sk-container-id-12 input.sk-toggleable__control:checked~label.sk-toggleable__label-arrow:before {content: \"▾\";}#sk-container-id-12 div.sk-estimator input.sk-toggleable__control:checked~label.sk-toggleable__label {background-color: #d4ebff;}#sk-container-id-12 div.sk-label input.sk-toggleable__control:checked~label.sk-toggleable__label {background-color: #d4ebff;}#sk-container-id-12 input.sk-hidden--visually {border: 0;clip: rect(1px 1px 1px 1px);clip: rect(1px, 1px, 1px, 1px);height: 1px;margin: -1px;overflow: hidden;padding: 0;position: absolute;width: 1px;}#sk-container-id-12 div.sk-estimator {font-family: monospace;background-color: #f0f8ff;border: 1px dotted black;border-radius: 0.25em;box-sizing: border-box;margin-bottom: 0.5em;}#sk-container-id-12 div.sk-estimator:hover {background-color: #d4ebff;}#sk-container-id-12 div.sk-parallel-item::after {content: \"\";width: 100%;border-bottom: 1px solid gray;flex-grow: 1;}#sk-container-id-12 div.sk-label:hover label.sk-toggleable__label {background-color: #d4ebff;}#sk-container-id-12 div.sk-serial::before {content: \"\";position: absolute;border-left: 1px solid gray;box-sizing: border-box;top: 0;bottom: 0;left: 50%;z-index: 0;}#sk-container-id-12 div.sk-serial {display: flex;flex-direction: column;align-items: center;background-color: white;padding-right: 0.2em;padding-left: 0.2em;position: relative;}#sk-container-id-12 div.sk-item {position: relative;z-index: 1;}#sk-container-id-12 div.sk-parallel {display: flex;align-items: stretch;justify-content: center;background-color: white;position: relative;}#sk-container-id-12 div.sk-item::before, #sk-container-id-12 div.sk-parallel-item::before {content: \"\";position: absolute;border-left: 1px solid gray;box-sizing: border-box;top: 0;bottom: 0;left: 50%;z-index: -1;}#sk-container-id-12 div.sk-parallel-item {display: flex;flex-direction: column;z-index: 1;position: relative;background-color: white;}#sk-container-id-12 div.sk-parallel-item:first-child::after {align-self: flex-end;width: 50%;}#sk-container-id-12 div.sk-parallel-item:last-child::after {align-self: flex-start;width: 50%;}#sk-container-id-12 div.sk-parallel-item:only-child::after {width: 0;}#sk-container-id-12 div.sk-dashed-wrapped {border: 1px dashed gray;margin: 0 0.4em 0.5em 0.4em;box-sizing: border-box;padding-bottom: 0.4em;background-color: white;}#sk-container-id-12 div.sk-label label {font-family: monospace;font-weight: bold;display: inline-block;line-height: 1.2em;}#sk-container-id-12 div.sk-label-container {text-align: center;}#sk-container-id-12 div.sk-container {/* jupyter's `normalize.less` sets `[hidden] { display: none; }` but bootstrap.min.css set `[hidden] { display: none !important; }` so we also need the `!important` here to be able to override the default hidden behavior on the sphinx rendered scikit-learn.org. See: https://github.com/scikit-learn/scikit-learn/issues/21755 */display: inline-block !important;position: relative;}#sk-container-id-12 div.sk-text-repr-fallback {display: none;}</style><div id=\"sk-container-id-12\" class=\"sk-top-container\"><div class=\"sk-text-repr-fallback\"><pre>DecisionTreeClassifier()</pre><b>In a Jupyter environment, please rerun this cell to show the HTML representation or trust the notebook. <br />On GitHub, the HTML representation is unable to render, please try loading this page with nbviewer.org.</b></div><div class=\"sk-container\" hidden><div class=\"sk-item\"><div class=\"sk-estimator sk-toggleable\"><input class=\"sk-toggleable__control sk-hidden--visually\" id=\"sk-estimator-id-12\" type=\"checkbox\" checked><label for=\"sk-estimator-id-12\" class=\"sk-toggleable__label sk-toggleable__label-arrow\">DecisionTreeClassifier</label><div class=\"sk-toggleable__content\"><pre>DecisionTreeClassifier()</pre></div></div></div></div></div>"
      ],
      "text/plain": [
       "DecisionTreeClassifier()"
      ]
     },
     "execution_count": 83,
     "metadata": {},
     "output_type": "execute_result"
    }
   ],
   "source": [
    "dtree = DecisionTreeClassifier()\n",
    "dtree.fit(X=reg_train.iloc[:, :-1], y=reg_train[\"IsCorrect\"])"
   ]
  },
  {
   "cell_type": "code",
   "execution_count": 87,
   "id": "7676d756-9c92-41af-abbe-11c531ec2de6",
   "metadata": {
    "execution": {
     "iopub.execute_input": "2023-12-06T09:36:59.945018Z",
     "iopub.status.busy": "2023-12-06T09:36:59.944521Z",
     "iopub.status.idle": "2023-12-06T09:37:00.037828Z",
     "shell.execute_reply": "2023-12-06T09:37:00.037332Z",
     "shell.execute_reply.started": "2023-12-06T09:36:59.945018Z"
    }
   },
   "outputs": [
    {
     "name": "stdout",
     "output_type": "stream",
     "text": [
      "0.6100250952825208\n"
     ]
    }
   ],
   "source": [
    "print(dtree.score(reg_test.iloc[:, :-1], reg_test[\"IsCorrect\"]))\n",
    "# plot_tree(dtree)"
   ]
  },
  {
   "cell_type": "code",
   "execution_count": 88,
   "id": "d01483a4-91d8-47a6-8a74-2291496e2106",
   "metadata": {
    "execution": {
     "iopub.execute_input": "2023-12-06T09:37:03.360483Z",
     "iopub.status.busy": "2023-12-06T09:37:03.359986Z",
     "iopub.status.idle": "2023-12-06T09:37:40.448882Z",
     "shell.execute_reply": "2023-12-06T09:37:40.448385Z",
     "shell.execute_reply.started": "2023-12-06T09:37:03.360483Z"
    }
   },
   "outputs": [
    {
     "data": {
      "text/html": [
       "<style>#sk-container-id-13 {color: black;}#sk-container-id-13 pre{padding: 0;}#sk-container-id-13 div.sk-toggleable {background-color: white;}#sk-container-id-13 label.sk-toggleable__label {cursor: pointer;display: block;width: 100%;margin-bottom: 0;padding: 0.3em;box-sizing: border-box;text-align: center;}#sk-container-id-13 label.sk-toggleable__label-arrow:before {content: \"▸\";float: left;margin-right: 0.25em;color: #696969;}#sk-container-id-13 label.sk-toggleable__label-arrow:hover:before {color: black;}#sk-container-id-13 div.sk-estimator:hover label.sk-toggleable__label-arrow:before {color: black;}#sk-container-id-13 div.sk-toggleable__content {max-height: 0;max-width: 0;overflow: hidden;text-align: left;background-color: #f0f8ff;}#sk-container-id-13 div.sk-toggleable__content pre {margin: 0.2em;color: black;border-radius: 0.25em;background-color: #f0f8ff;}#sk-container-id-13 input.sk-toggleable__control:checked~div.sk-toggleable__content {max-height: 200px;max-width: 100%;overflow: auto;}#sk-container-id-13 input.sk-toggleable__control:checked~label.sk-toggleable__label-arrow:before {content: \"▾\";}#sk-container-id-13 div.sk-estimator input.sk-toggleable__control:checked~label.sk-toggleable__label {background-color: #d4ebff;}#sk-container-id-13 div.sk-label input.sk-toggleable__control:checked~label.sk-toggleable__label {background-color: #d4ebff;}#sk-container-id-13 input.sk-hidden--visually {border: 0;clip: rect(1px 1px 1px 1px);clip: rect(1px, 1px, 1px, 1px);height: 1px;margin: -1px;overflow: hidden;padding: 0;position: absolute;width: 1px;}#sk-container-id-13 div.sk-estimator {font-family: monospace;background-color: #f0f8ff;border: 1px dotted black;border-radius: 0.25em;box-sizing: border-box;margin-bottom: 0.5em;}#sk-container-id-13 div.sk-estimator:hover {background-color: #d4ebff;}#sk-container-id-13 div.sk-parallel-item::after {content: \"\";width: 100%;border-bottom: 1px solid gray;flex-grow: 1;}#sk-container-id-13 div.sk-label:hover label.sk-toggleable__label {background-color: #d4ebff;}#sk-container-id-13 div.sk-serial::before {content: \"\";position: absolute;border-left: 1px solid gray;box-sizing: border-box;top: 0;bottom: 0;left: 50%;z-index: 0;}#sk-container-id-13 div.sk-serial {display: flex;flex-direction: column;align-items: center;background-color: white;padding-right: 0.2em;padding-left: 0.2em;position: relative;}#sk-container-id-13 div.sk-item {position: relative;z-index: 1;}#sk-container-id-13 div.sk-parallel {display: flex;align-items: stretch;justify-content: center;background-color: white;position: relative;}#sk-container-id-13 div.sk-item::before, #sk-container-id-13 div.sk-parallel-item::before {content: \"\";position: absolute;border-left: 1px solid gray;box-sizing: border-box;top: 0;bottom: 0;left: 50%;z-index: -1;}#sk-container-id-13 div.sk-parallel-item {display: flex;flex-direction: column;z-index: 1;position: relative;background-color: white;}#sk-container-id-13 div.sk-parallel-item:first-child::after {align-self: flex-end;width: 50%;}#sk-container-id-13 div.sk-parallel-item:last-child::after {align-self: flex-start;width: 50%;}#sk-container-id-13 div.sk-parallel-item:only-child::after {width: 0;}#sk-container-id-13 div.sk-dashed-wrapped {border: 1px dashed gray;margin: 0 0.4em 0.5em 0.4em;box-sizing: border-box;padding-bottom: 0.4em;background-color: white;}#sk-container-id-13 div.sk-label label {font-family: monospace;font-weight: bold;display: inline-block;line-height: 1.2em;}#sk-container-id-13 div.sk-label-container {text-align: center;}#sk-container-id-13 div.sk-container {/* jupyter's `normalize.less` sets `[hidden] { display: none; }` but bootstrap.min.css set `[hidden] { display: none !important; }` so we also need the `!important` here to be able to override the default hidden behavior on the sphinx rendered scikit-learn.org. See: https://github.com/scikit-learn/scikit-learn/issues/21755 */display: inline-block !important;position: relative;}#sk-container-id-13 div.sk-text-repr-fallback {display: none;}</style><div id=\"sk-container-id-13\" class=\"sk-top-container\"><div class=\"sk-text-repr-fallback\"><pre>RandomForestClassifier(n_jobs=6)</pre><b>In a Jupyter environment, please rerun this cell to show the HTML representation or trust the notebook. <br />On GitHub, the HTML representation is unable to render, please try loading this page with nbviewer.org.</b></div><div class=\"sk-container\" hidden><div class=\"sk-item\"><div class=\"sk-estimator sk-toggleable\"><input class=\"sk-toggleable__control sk-hidden--visually\" id=\"sk-estimator-id-13\" type=\"checkbox\" checked><label for=\"sk-estimator-id-13\" class=\"sk-toggleable__label sk-toggleable__label-arrow\">RandomForestClassifier</label><div class=\"sk-toggleable__content\"><pre>RandomForestClassifier(n_jobs=6)</pre></div></div></div></div></div>"
      ],
      "text/plain": [
       "RandomForestClassifier(n_jobs=6)"
      ]
     },
     "execution_count": 88,
     "metadata": {},
     "output_type": "execute_result"
    }
   ],
   "source": [
    "forest = RandomForestClassifier(n_jobs=6)\n",
    "forest.fit(X=reg_train.iloc[:, :-1], y=reg_train[\"IsCorrect\"])"
   ]
  },
  {
   "cell_type": "code",
   "execution_count": 89,
   "id": "b9cc7a3b-2ec2-47a9-87cc-bda53f03ab3c",
   "metadata": {
    "execution": {
     "iopub.execute_input": "2023-12-06T09:37:43.832332Z",
     "iopub.status.busy": "2023-12-06T09:37:43.831836Z",
     "iopub.status.idle": "2023-12-06T09:37:45.170522Z",
     "shell.execute_reply": "2023-12-06T09:37:45.170025Z",
     "shell.execute_reply.started": "2023-12-06T09:37:43.832332Z"
    }
   },
   "outputs": [
    {
     "name": "stdout",
     "output_type": "stream",
     "text": [
      "0.6522893117239085\n"
     ]
    }
   ],
   "source": [
    "print(forest.score(reg_test.iloc[:, :-1], reg_test[\"IsCorrect\"]))"
   ]
  },
  {
   "cell_type": "code",
   "execution_count": 91,
   "id": "25027405-8375-4a2c-9732-1233e789f6e3",
   "metadata": {
    "execution": {
     "iopub.execute_input": "2023-12-06T09:40:40.497028Z",
     "iopub.status.busy": "2023-12-06T09:40:40.496531Z",
     "iopub.status.idle": "2023-12-06T09:41:47.337405Z",
     "shell.execute_reply": "2023-12-06T09:41:47.336909Z",
     "shell.execute_reply.started": "2023-12-06T09:40:40.497028Z"
    }
   },
   "outputs": [
    {
     "data": {
      "text/html": [
       "<style>#sk-container-id-14 {color: black;}#sk-container-id-14 pre{padding: 0;}#sk-container-id-14 div.sk-toggleable {background-color: white;}#sk-container-id-14 label.sk-toggleable__label {cursor: pointer;display: block;width: 100%;margin-bottom: 0;padding: 0.3em;box-sizing: border-box;text-align: center;}#sk-container-id-14 label.sk-toggleable__label-arrow:before {content: \"▸\";float: left;margin-right: 0.25em;color: #696969;}#sk-container-id-14 label.sk-toggleable__label-arrow:hover:before {color: black;}#sk-container-id-14 div.sk-estimator:hover label.sk-toggleable__label-arrow:before {color: black;}#sk-container-id-14 div.sk-toggleable__content {max-height: 0;max-width: 0;overflow: hidden;text-align: left;background-color: #f0f8ff;}#sk-container-id-14 div.sk-toggleable__content pre {margin: 0.2em;color: black;border-radius: 0.25em;background-color: #f0f8ff;}#sk-container-id-14 input.sk-toggleable__control:checked~div.sk-toggleable__content {max-height: 200px;max-width: 100%;overflow: auto;}#sk-container-id-14 input.sk-toggleable__control:checked~label.sk-toggleable__label-arrow:before {content: \"▾\";}#sk-container-id-14 div.sk-estimator input.sk-toggleable__control:checked~label.sk-toggleable__label {background-color: #d4ebff;}#sk-container-id-14 div.sk-label input.sk-toggleable__control:checked~label.sk-toggleable__label {background-color: #d4ebff;}#sk-container-id-14 input.sk-hidden--visually {border: 0;clip: rect(1px 1px 1px 1px);clip: rect(1px, 1px, 1px, 1px);height: 1px;margin: -1px;overflow: hidden;padding: 0;position: absolute;width: 1px;}#sk-container-id-14 div.sk-estimator {font-family: monospace;background-color: #f0f8ff;border: 1px dotted black;border-radius: 0.25em;box-sizing: border-box;margin-bottom: 0.5em;}#sk-container-id-14 div.sk-estimator:hover {background-color: #d4ebff;}#sk-container-id-14 div.sk-parallel-item::after {content: \"\";width: 100%;border-bottom: 1px solid gray;flex-grow: 1;}#sk-container-id-14 div.sk-label:hover label.sk-toggleable__label {background-color: #d4ebff;}#sk-container-id-14 div.sk-serial::before {content: \"\";position: absolute;border-left: 1px solid gray;box-sizing: border-box;top: 0;bottom: 0;left: 50%;z-index: 0;}#sk-container-id-14 div.sk-serial {display: flex;flex-direction: column;align-items: center;background-color: white;padding-right: 0.2em;padding-left: 0.2em;position: relative;}#sk-container-id-14 div.sk-item {position: relative;z-index: 1;}#sk-container-id-14 div.sk-parallel {display: flex;align-items: stretch;justify-content: center;background-color: white;position: relative;}#sk-container-id-14 div.sk-item::before, #sk-container-id-14 div.sk-parallel-item::before {content: \"\";position: absolute;border-left: 1px solid gray;box-sizing: border-box;top: 0;bottom: 0;left: 50%;z-index: -1;}#sk-container-id-14 div.sk-parallel-item {display: flex;flex-direction: column;z-index: 1;position: relative;background-color: white;}#sk-container-id-14 div.sk-parallel-item:first-child::after {align-self: flex-end;width: 50%;}#sk-container-id-14 div.sk-parallel-item:last-child::after {align-self: flex-start;width: 50%;}#sk-container-id-14 div.sk-parallel-item:only-child::after {width: 0;}#sk-container-id-14 div.sk-dashed-wrapped {border: 1px dashed gray;margin: 0 0.4em 0.5em 0.4em;box-sizing: border-box;padding-bottom: 0.4em;background-color: white;}#sk-container-id-14 div.sk-label label {font-family: monospace;font-weight: bold;display: inline-block;line-height: 1.2em;}#sk-container-id-14 div.sk-label-container {text-align: center;}#sk-container-id-14 div.sk-container {/* jupyter's `normalize.less` sets `[hidden] { display: none; }` but bootstrap.min.css set `[hidden] { display: none !important; }` so we also need the `!important` here to be able to override the default hidden behavior on the sphinx rendered scikit-learn.org. See: https://github.com/scikit-learn/scikit-learn/issues/21755 */display: inline-block !important;position: relative;}#sk-container-id-14 div.sk-text-repr-fallback {display: none;}</style><div id=\"sk-container-id-14\" class=\"sk-top-container\"><div class=\"sk-text-repr-fallback\"><pre>BaggingClassifier()</pre><b>In a Jupyter environment, please rerun this cell to show the HTML representation or trust the notebook. <br />On GitHub, the HTML representation is unable to render, please try loading this page with nbviewer.org.</b></div><div class=\"sk-container\" hidden><div class=\"sk-item\"><div class=\"sk-estimator sk-toggleable\"><input class=\"sk-toggleable__control sk-hidden--visually\" id=\"sk-estimator-id-14\" type=\"checkbox\" checked><label for=\"sk-estimator-id-14\" class=\"sk-toggleable__label sk-toggleable__label-arrow\">BaggingClassifier</label><div class=\"sk-toggleable__content\"><pre>BaggingClassifier()</pre></div></div></div></div></div>"
      ],
      "text/plain": [
       "BaggingClassifier()"
      ]
     },
     "execution_count": 91,
     "metadata": {},
     "output_type": "execute_result"
    }
   ],
   "source": [
    "bagg = BaggingClassifier(n_jobs=6)\n",
    "bagg.fit(X=reg_train.iloc[:, :-1], y=reg_train[\"IsCorrect\"])"
   ]
  },
  {
   "cell_type": "code",
   "execution_count": 92,
   "id": "bef6a5f6-2ec9-4746-a330-9441c9255af9",
   "metadata": {
    "execution": {
     "iopub.execute_input": "2023-12-06T09:41:56.832997Z",
     "iopub.status.busy": "2023-12-06T09:41:56.832498Z",
     "iopub.status.idle": "2023-12-06T09:41:57.413854Z",
     "shell.execute_reply": "2023-12-06T09:41:57.413355Z",
     "shell.execute_reply.started": "2023-12-06T09:41:56.832997Z"
    }
   },
   "outputs": [
    {
     "name": "stdout",
     "output_type": "stream",
     "text": [
      "0.6450283135536222\n"
     ]
    }
   ],
   "source": [
    "print(bagg.score(reg_test.iloc[:, :-1], reg_test[\"IsCorrect\"]))"
   ]
  },
  {
   "cell_type": "code",
   "execution_count": 95,
   "id": "63267a68-5c0c-49ad-8157-ecf2bb40fb8d",
   "metadata": {
    "execution": {
     "iopub.execute_input": "2023-12-06T09:42:53.627310Z",
     "iopub.status.busy": "2023-12-06T09:42:53.626814Z",
     "iopub.status.idle": "2023-12-06T09:42:57.989532Z",
     "shell.execute_reply": "2023-12-06T09:42:57.989034Z",
     "shell.execute_reply.started": "2023-12-06T09:42:53.627310Z"
    }
   },
   "outputs": [
    {
     "data": {
      "text/html": [
       "<style>#sk-container-id-16 {color: black;}#sk-container-id-16 pre{padding: 0;}#sk-container-id-16 div.sk-toggleable {background-color: white;}#sk-container-id-16 label.sk-toggleable__label {cursor: pointer;display: block;width: 100%;margin-bottom: 0;padding: 0.3em;box-sizing: border-box;text-align: center;}#sk-container-id-16 label.sk-toggleable__label-arrow:before {content: \"▸\";float: left;margin-right: 0.25em;color: #696969;}#sk-container-id-16 label.sk-toggleable__label-arrow:hover:before {color: black;}#sk-container-id-16 div.sk-estimator:hover label.sk-toggleable__label-arrow:before {color: black;}#sk-container-id-16 div.sk-toggleable__content {max-height: 0;max-width: 0;overflow: hidden;text-align: left;background-color: #f0f8ff;}#sk-container-id-16 div.sk-toggleable__content pre {margin: 0.2em;color: black;border-radius: 0.25em;background-color: #f0f8ff;}#sk-container-id-16 input.sk-toggleable__control:checked~div.sk-toggleable__content {max-height: 200px;max-width: 100%;overflow: auto;}#sk-container-id-16 input.sk-toggleable__control:checked~label.sk-toggleable__label-arrow:before {content: \"▾\";}#sk-container-id-16 div.sk-estimator input.sk-toggleable__control:checked~label.sk-toggleable__label {background-color: #d4ebff;}#sk-container-id-16 div.sk-label input.sk-toggleable__control:checked~label.sk-toggleable__label {background-color: #d4ebff;}#sk-container-id-16 input.sk-hidden--visually {border: 0;clip: rect(1px 1px 1px 1px);clip: rect(1px, 1px, 1px, 1px);height: 1px;margin: -1px;overflow: hidden;padding: 0;position: absolute;width: 1px;}#sk-container-id-16 div.sk-estimator {font-family: monospace;background-color: #f0f8ff;border: 1px dotted black;border-radius: 0.25em;box-sizing: border-box;margin-bottom: 0.5em;}#sk-container-id-16 div.sk-estimator:hover {background-color: #d4ebff;}#sk-container-id-16 div.sk-parallel-item::after {content: \"\";width: 100%;border-bottom: 1px solid gray;flex-grow: 1;}#sk-container-id-16 div.sk-label:hover label.sk-toggleable__label {background-color: #d4ebff;}#sk-container-id-16 div.sk-serial::before {content: \"\";position: absolute;border-left: 1px solid gray;box-sizing: border-box;top: 0;bottom: 0;left: 50%;z-index: 0;}#sk-container-id-16 div.sk-serial {display: flex;flex-direction: column;align-items: center;background-color: white;padding-right: 0.2em;padding-left: 0.2em;position: relative;}#sk-container-id-16 div.sk-item {position: relative;z-index: 1;}#sk-container-id-16 div.sk-parallel {display: flex;align-items: stretch;justify-content: center;background-color: white;position: relative;}#sk-container-id-16 div.sk-item::before, #sk-container-id-16 div.sk-parallel-item::before {content: \"\";position: absolute;border-left: 1px solid gray;box-sizing: border-box;top: 0;bottom: 0;left: 50%;z-index: -1;}#sk-container-id-16 div.sk-parallel-item {display: flex;flex-direction: column;z-index: 1;position: relative;background-color: white;}#sk-container-id-16 div.sk-parallel-item:first-child::after {align-self: flex-end;width: 50%;}#sk-container-id-16 div.sk-parallel-item:last-child::after {align-self: flex-start;width: 50%;}#sk-container-id-16 div.sk-parallel-item:only-child::after {width: 0;}#sk-container-id-16 div.sk-dashed-wrapped {border: 1px dashed gray;margin: 0 0.4em 0.5em 0.4em;box-sizing: border-box;padding-bottom: 0.4em;background-color: white;}#sk-container-id-16 div.sk-label label {font-family: monospace;font-weight: bold;display: inline-block;line-height: 1.2em;}#sk-container-id-16 div.sk-label-container {text-align: center;}#sk-container-id-16 div.sk-container {/* jupyter's `normalize.less` sets `[hidden] { display: none; }` but bootstrap.min.css set `[hidden] { display: none !important; }` so we also need the `!important` here to be able to override the default hidden behavior on the sphinx rendered scikit-learn.org. See: https://github.com/scikit-learn/scikit-learn/issues/21755 */display: inline-block !important;position: relative;}#sk-container-id-16 div.sk-text-repr-fallback {display: none;}</style><div id=\"sk-container-id-16\" class=\"sk-top-container\"><div class=\"sk-text-repr-fallback\"><pre>HistGradientBoostingClassifier()</pre><b>In a Jupyter environment, please rerun this cell to show the HTML representation or trust the notebook. <br />On GitHub, the HTML representation is unable to render, please try loading this page with nbviewer.org.</b></div><div class=\"sk-container\" hidden><div class=\"sk-item\"><div class=\"sk-estimator sk-toggleable\"><input class=\"sk-toggleable__control sk-hidden--visually\" id=\"sk-estimator-id-16\" type=\"checkbox\" checked><label for=\"sk-estimator-id-16\" class=\"sk-toggleable__label sk-toggleable__label-arrow\">HistGradientBoostingClassifier</label><div class=\"sk-toggleable__content\"><pre>HistGradientBoostingClassifier()</pre></div></div></div></div></div>"
      ],
      "text/plain": [
       "HistGradientBoostingClassifier()"
      ]
     },
     "execution_count": 95,
     "metadata": {},
     "output_type": "execute_result"
    }
   ],
   "source": [
    "hgb = HistGradientBoostingClassifier()\n",
    "hgb.fit(X=reg_train.iloc[:, :-1], y=reg_train[\"IsCorrect\"])"
   ]
  },
  {
   "cell_type": "code",
   "execution_count": 96,
   "id": "01c97421-dff2-4ad7-851e-25bcb046b7ca",
   "metadata": {
    "execution": {
     "iopub.execute_input": "2023-12-06T09:43:00.080254Z",
     "iopub.status.busy": "2023-12-06T09:43:00.079757Z",
     "iopub.status.idle": "2023-12-06T09:43:00.246139Z",
     "shell.execute_reply": "2023-12-06T09:43:00.245642Z",
     "shell.execute_reply.started": "2023-12-06T09:43:00.080254Z"
    }
   },
   "outputs": [
    {
     "name": "stdout",
     "output_type": "stream",
     "text": [
      "0.6610835087110282\n"
     ]
    }
   ],
   "source": [
    "print(hgb.score(reg_test.iloc[:, :-1], reg_test[\"IsCorrect\"]))"
   ]
  },
  {
   "cell_type": "markdown",
   "id": "8326e4c7-e523-4382-b555-837124b6bab3",
   "metadata": {},
   "source": [
    "## PCA\n",
    "\n",
    "Use FAMD to decompose categoricals into numerical values\n",
    "\n",
    "* Using FAMD [link](https://towardsdatascience.com/famd-how-to-generalize-pca-to-categorical-and-numerical-data-2ddbeb2b9210)\n",
    "* "
   ]
  },
  {
   "cell_type": "code",
   "execution_count": null,
   "id": "a5bf4d10-3ebd-4de9-a571-bdedd2e3e709",
   "metadata": {},
   "outputs": [],
   "source": []
  },
  {
   "cell_type": "code",
   "execution_count": null,
   "id": "5cbe6178-cba8-412d-8ac6-b203074090b4",
   "metadata": {},
   "outputs": [],
   "source": []
  },
  {
   "cell_type": "code",
   "execution_count": null,
   "id": "83766a59-768e-43f7-b6c4-5b1e7554ab2c",
   "metadata": {},
   "outputs": [],
   "source": []
  }
 ],
 "metadata": {
  "kernelspec": {
   "display_name": "Python 3 (ipykernel)",
   "language": "python",
   "name": "python3"
  },
  "language_info": {
   "codemirror_mode": {
    "name": "ipython",
    "version": 3
   },
   "file_extension": ".py",
   "mimetype": "text/x-python",
   "name": "python",
   "nbconvert_exporter": "python",
   "pygments_lexer": "ipython3",
   "version": "3.10.11"
  },
  "widgets": {
   "application/vnd.jupyter.widget-state+json": {
    "state": {},
    "version_major": 2,
    "version_minor": 0
   }
  }
 },
 "nbformat": 4,
 "nbformat_minor": 5
}
