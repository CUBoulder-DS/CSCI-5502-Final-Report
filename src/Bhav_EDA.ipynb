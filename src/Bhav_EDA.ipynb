{
 "cells": [
  {
   "cell_type": "markdown",
   "id": "bdaa918e-0f93-44d6-b54f-a7d5d3bfbeec",
   "metadata": {},
   "source": [
    "# EDA of Eedi Dataset\n",
    "## Author: Bhavana Jonnalagadda\n"
   ]
  },
  {
   "cell_type": "code",
   "execution_count": null,
   "id": "d93d4590-8e3c-438a-96d9-3bc779dba25e",
   "metadata": {},
   "outputs": [],
   "source": [
    "# !pip install plotly "
   ]
  },
  {
   "cell_type": "code",
   "execution_count": 3,
   "id": "299b0c10-7d23-448e-b1a2-fa5c3f64f7f9",
   "metadata": {
    "tags": []
   },
   "outputs": [],
   "source": [
    "import os\n",
    "\n",
    "import pandas as pd\n",
    "import numpy as np\n",
    "\n",
    "import plotly.express as px\n",
    "import plotly.graph_objects as go\n",
    "import plotly.io as pio\n",
    "from plotly.subplots import make_subplots\n",
    "import plotly.figure_factory as ff\n",
    "# Settings for plot rendering, makes work with HTML output + jupyer lab + static output\n",
    "pio.renderers.default = \"notebook+plotly_mimetype+png\"\n",
    "# pio.renderers.default = \"png\"\n",
    "%matplotlib inline"
   ]
  },
  {
   "cell_type": "markdown",
   "id": "a31e57d6-fa19-4e95-ba5b-e0f96340fbc6",
   "metadata": {},
   "source": [
    "## Load and format data\n",
    "\n",
    "We focus on the data available to tasks 3 and 4 as it is a much smaller dataset that is workable. The task descriptions from the paper \"Instructions and Guide for\n",
    "Diagnostic Questions: The NeurIPS 2020 Education Challenge\":\n",
    "\n",
    "- **The third task** is to predict the “quality” of a question, as defined by a panel of domain experts (experienced teachers), based on the information learned from the students’ answers found in the dataset. This task requires the definition of a metric for evaluating the question quality that mimics the experts’ judgement of the question quality. This is an unsupervised task.\n",
    "- **The fourth task** is to interactively generate a sequence of questions to ask a student in order to maximise the predictive accuracy of a model on their remaining answers. Specifically, a participant’s model will be provided with a set of previously-unseen students, whose answers to questions are completely hidden, and a set of potential questions to query for each student. The model will then choose a personalized question to query for each of these students in turn, and then their corresponding answer will be revealed to the model. Based on this information, the model should choose a second question to query for each student, and so on, until 10 questions have been asked in total. The aim of the task is to maximise the predictive accuracy of a participant’s model on a held-out set of questions for each student, after the model has been exposed to the 10 answers from each student."
   ]
  },
  {
   "cell_type": "code",
   "execution_count": 9,
   "id": "28c4b0d9-7f48-4531-a71e-8b523ed08c4d",
   "metadata": {
    "tags": []
   },
   "outputs": [
    {
     "name": "stdout",
     "output_type": "stream",
     "text": [
      "         QuestionId  UserId  AnswerId  IsCorrect  CorrectAnswer  AnswerValue\n",
      "0               898    2111    280203          1              2            2\n",
      "1               767    3062     55638          1              3            3\n",
      "2               165    1156    386475          1              2            2\n",
      "3               490    1653    997498          1              4            4\n",
      "4               298    3912    578636          1              3            3\n",
      "...             ...     ...       ...        ...            ...          ...\n",
      "1382722          80    2608     57945          1              2            2\n",
      "1382723         707    2549    584230          0              2            1\n",
      "1382724         840    5901   1138956          1              1            1\n",
      "1382725         794    3854   1151183          0              1            3\n",
      "1382726         157    3184   1321883          1              3            3\n",
      "\n",
      "[1382727 rows x 6 columns]\n",
      "         AnswerId             DateAnswered  Confidence  GroupId  QuizId   \n",
      "0         1451945  2019-10-30 14:34:00.000         NaN        4      32  \\\n",
      "1           45325  2020-01-06 18:53:00.000        75.0      185      66   \n",
      "2          687013  2020-01-18 10:52:00.000         NaN      235      64   \n",
      "3           91254  2020-02-29 17:25:00.000         NaN      194      97   \n",
      "4         1225855  2020-03-06 15:07:00.000         NaN       95     115   \n",
      "...           ...                      ...         ...      ...     ...   \n",
      "1508912    880336  2019-12-05 18:56:00.000        75.0       27      84   \n",
      "1508913    701366  2020-01-20 20:27:00.000         NaN      362      65   \n",
      "1508914    646214  2019-12-17 19:33:00.000         NaN      170      84   \n",
      "1508915    346788  2019-10-25 15:00:00.000         NaN       10      73   \n",
      "1508916    949136  2019-11-01 21:29:00.000        75.0      300      49   \n",
      "\n",
      "         SchemeOfWorkId  \n",
      "0               52562.0  \n",
      "1               52562.0  \n",
      "2               52562.0  \n",
      "3               52562.0  \n",
      "4               52562.0  \n",
      "...                 ...  \n",
      "1508912         52562.0  \n",
      "1508913         52562.0  \n",
      "1508914         52562.0  \n",
      "1508915         52562.0  \n",
      "1508916         52562.0  \n",
      "\n",
      "[1508917 rows x 6 columns]\n",
      "      UserId  Gender              DateOfBirth  PremiumPupil\n",
      "0       3837       2  2007-10-01 00:00:00.000           0.0\n",
      "1        207       0                      NaN           NaN\n",
      "2       3581       2  2008-03-01 00:00:00.000           0.0\n",
      "3       6028       2  2008-01-01 00:00:00.000           0.0\n",
      "4       1451       0                      NaN           NaN\n",
      "...      ...     ...                      ...           ...\n",
      "6143    5831       0                      NaN           NaN\n",
      "6144    3165       2  2008-01-01 00:00:00.000           0.0\n",
      "6145     273       2                      NaN           NaN\n",
      "6146    2169       2  2008-03-01 00:00:00.000           0.0\n",
      "6147     739       0                      NaN           NaN\n",
      "\n",
      "[6148 rows x 4 columns]\n",
      "     QuestionId         SubjectId\n",
      "0           684  [3, 71, 98, 209]\n",
      "1            87  [3, 71, 98, 209]\n",
      "2           679  [3, 71, 98, 209]\n",
      "3           685  [3, 71, 98, 209]\n",
      "4           222  [3, 71, 98, 209]\n",
      "..          ...               ...\n",
      "943         313  [3, 32, 39, 230]\n",
      "944         239  [3, 32, 39, 230]\n",
      "945         397  [3, 32, 39, 230]\n",
      "946         897  [3, 32, 39, 230]\n",
      "947         518  [3, 32, 39, 230]\n",
      "\n",
      "[948 rows x 2 columns]\n",
      "     SubjectId                       Name  ParentId  Level\n",
      "0            3                      Maths       NaN      0\n",
      "1           32                     Number       3.0      1\n",
      "2           33                     BIDMAS     144.0      3\n",
      "3           34     Upper and Lower Bounds     141.0      3\n",
      "4           35             Calculator Use      32.0      2\n",
      "..         ...                        ...       ...    ...\n",
      "383       1982  Mixed operation Fractions      39.0      3\n",
      "384       1983               Drawing Axes      54.0      3\n",
      "385       1985             Reading Scales      98.0      3\n",
      "386       1987             Sorting Shapes     174.0      3\n",
      "387       1988           Labelling Shapes     174.0      3\n",
      "\n",
      "[388 rows x 4 columns]\n"
     ]
    }
   ],
   "source": [
    "# Use normpath to make work on windows machines\n",
    "data_dir = os.path.normpath(\"../data/\")\n",
    "eedi_dir = os.path.join(data_dir, \"Eedi_dataset\")\n",
    "eedi_metadata_dir = os.path.join(eedi_dir, \"metadata\")\n",
    "\n",
    "df_train = pd.read_csv(os.path.join(eedi_dir, \"train_data\", \"train_task_3_4.csv\"))\n",
    "df_answer = pd.read_csv(os.path.join(eedi_metadata_dir, \"answer_metadata_task_3_4.csv\"))\n",
    "df_student = pd.read_csv(os.path.join(eedi_metadata_dir, \"student_metadata_task_3_4.csv\"))\n",
    "df_question = pd.read_csv(os.path.join(eedi_metadata_dir, \"question_metadata_task_3_4.csv\"))\n",
    "df_subject = pd.read_csv(os.path.join(eedi_metadata_dir, \"subject_metadata.csv\"))\n",
    "\n",
    "print(df_train, df_answer, df_student, df_question, df_subject, sep=\"\\n\")"
   ]
  },
  {
   "cell_type": "code",
   "execution_count": null,
   "id": "7351b127-ed33-4f4b-a30d-5e3f374db3a6",
   "metadata": {},
   "outputs": [],
   "source": []
  }
 ],
 "metadata": {
  "kernelspec": {
   "display_name": "Python 3 (ipykernel)",
   "language": "python",
   "name": "python3"
  },
  "language_info": {
   "codemirror_mode": {
    "name": "ipython",
    "version": 3
   },
   "file_extension": ".py",
   "mimetype": "text/x-python",
   "name": "python",
   "nbconvert_exporter": "python",
   "pygments_lexer": "ipython3",
   "version": "3.10.0"
  }
 },
 "nbformat": 4,
 "nbformat_minor": 5
}
