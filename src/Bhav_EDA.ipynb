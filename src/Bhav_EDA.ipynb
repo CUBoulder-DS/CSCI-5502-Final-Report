{
 "cells": [
  {
   "cell_type": "markdown",
   "id": "bdaa918e-0f93-44d6-b54f-a7d5d3bfbeec",
   "metadata": {},
   "source": [
    "# EDA of Eedi Dataset\n",
    "## Author: Bhavana Jonnalagadda\n"
   ]
  },
  {
   "cell_type": "code",
   "execution_count": null,
   "id": "d93d4590-8e3c-438a-96d9-3bc779dba25e",
   "metadata": {},
   "outputs": [],
   "source": [
    "# !pip install plotly "
   ]
  },
  {
   "cell_type": "code",
   "execution_count": 3,
   "id": "299b0c10-7d23-448e-b1a2-fa5c3f64f7f9",
   "metadata": {
    "tags": []
   },
   "outputs": [],
   "source": [
    "import os\n",
    "\n",
    "import pandas as pd\n",
    "import numpy as np\n",
    "\n",
    "import plotly.express as px\n",
    "import plotly.graph_objects as go\n",
    "import plotly.io as pio\n",
    "from plotly.subplots import make_subplots\n",
    "import plotly.figure_factory as ff\n",
    "# Settings for plot rendering, makes work with HTML output + jupyer lab + static output\n",
    "pio.renderers.default = \"notebook+plotly_mimetype+png\"\n",
    "# pio.renderers.default = \"png\"\n",
    "%matplotlib inline"
   ]
  },
  {
   "cell_type": "markdown",
   "id": "a31e57d6-fa19-4e95-ba5b-e0f96340fbc6",
   "metadata": {},
   "source": [
    "## Load and format data"
   ]
  },
  {
   "cell_type": "code",
   "execution_count": 4,
   "id": "28c4b0d9-7f48-4531-a71e-8b523ed08c4d",
   "metadata": {
    "tags": []
   },
   "outputs": [
    {
     "data": {
      "text/plain": [
       "'../data/Eedi_dataset'"
      ]
     },
     "execution_count": 4,
     "metadata": {},
     "output_type": "execute_result"
    }
   ],
   "source": [
    "# Use normpath to make work on windows machines\n",
    "data_dir = os.path.normpath(\"../data/\")\n",
    "eedi_dir = os.path.join(data_dir, \"Eedi_dataset\")\n",
    "\n",
    "eedi_dir"
   ]
  },
  {
   "cell_type": "code",
   "execution_count": null,
   "id": "7351b127-ed33-4f4b-a30d-5e3f374db3a6",
   "metadata": {},
   "outputs": [],
   "source": []
  }
 ],
 "metadata": {
  "kernelspec": {
   "display_name": "Python 3 (ipykernel)",
   "language": "python",
   "name": "python3"
  },
  "language_info": {
   "codemirror_mode": {
    "name": "ipython",
    "version": 3
   },
   "file_extension": ".py",
   "mimetype": "text/x-python",
   "name": "python",
   "nbconvert_exporter": "python",
   "pygments_lexer": "ipython3",
   "version": "3.10.0"
  }
 },
 "nbformat": 4,
 "nbformat_minor": 5
}
